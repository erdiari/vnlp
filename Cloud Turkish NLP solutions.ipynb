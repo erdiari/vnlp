{
 "cells": [
  {
   "cell_type": "markdown",
   "id": "7293aaad",
   "metadata": {},
   "source": [
    "## Overall: \n",
    "- Şirketler high-level çözümler sunuyorlar ve bu çözümlerin içinde internal olarak preprocessing yapıyorlar. Low-level çözümleri ise nadiren github'a developer'lar için koyuyorlar. Örn: starlang, fixy\n",
    "- Low-level çözüm satan yok."
   ]
  },
  {
   "cell_type": "markdown",
   "id": "fc19c626",
   "metadata": {},
   "source": [
    "### 1. Google Cloud (https://cloud.google.com/natural-language/docs/languages):\n",
    "2 modülden oluşuyor:\n",
    "- https://cloud.google.com/natural-language/docs/basics\n",
    "- https://cloud.google.com/natural-language/docs/morphology\n",
    "\n",
    "Modüller: \n",
    "https://cloud.google.com/natural-language#which-natural-language-product-is-right-for-you\n",
    "- Syntax Analysis:\n",
    "    - Tokenization\n",
    "    - Sentence splitting\n",
    "    - POS tagging\n",
    "    - Dependency parsing\n",
    "    \n",
    "- Entity Analysis (NER, allows custom entitites)\n",
    "- Sentiment Analysis (Positive, Neutral, Negative)\n",
    "- Content Classification (predefined categories + allows custom classes)\n",
    "\n",
    "\n",
    "#### TURKISH:\n",
    "- Sentiment Analysis"
   ]
  },
  {
   "cell_type": "markdown",
   "id": "ae75eb44",
   "metadata": {},
   "source": [
    "### 2. Amazon Comprehend (https://aws.amazon.com/comprehend/features/):\n",
    "\n",
    "- Syntax Analysis\n",
    "    - Tokenization\n",
    "    - POS tagging\n",
    "- Entity Recognition (NER, allows custom entities)\n",
    "- Sentiment Analysis\n",
    "- Language Detection\n",
    "- Custom classification (classify anything as long as you provide labels)\n",
    "- NLP for Health domain\n",
    "\n",
    "#### NO TURKISH SUPPORT"
   ]
  },
  {
   "cell_type": "markdown",
   "id": "bda606ce",
   "metadata": {},
   "source": [
    "### 3. Microsoft Azure Cognitive Services (https://docs.microsoft.com/en-us/azure/architecture/data-guide/technology-choices/natural-language-processing):\n",
    "https://docs.microsoft.com/en-us/azure/cognitive-services/text-analytics/overview\n",
    "\n",
    "- Sentiment Analysis\n",
    "- Key Phrase Extraction\n",
    "- Named Entity Recognition\n",
    "- Syllabification\n",
    "- Language Detection\n",
    "- Text Analytics for Health\n",
    "\n",
    "\n",
    "- Language Understanding (https://docs.microsoft.com/en-us/azure/cognitive-services/luis/what-is-luis)\n",
    "- Question Answering (https://docs.microsoft.com/en-us/azure/cognitive-services/qnamaker/overview/language-support?tabs=v1)\n",
    "- Translator (https://docs.microsoft.com/en-us/azure/cognitive-services/translator/translator-info-overview)\n",
    "- Text-to-Speech\n",
    "\n",
    "\n",
    "\n",
    "A lot of on-prem support is provided\n",
    "\n",
    "#### TURKISH:\n",
    "- Sentiment Analysis\n",
    "- Named Entity Recognition\n",
    "- Key Phrase Extraction\n",
    "- Language Detection\n",
    "- Language Understanding\n",
    "- Question Answering\n",
    "- Translator\n",
    "- Text-to-Speech\n",
    "- Syllabification"
   ]
  },
  {
   "cell_type": "markdown",
   "id": "9d74326d",
   "metadata": {},
   "source": [
    "- Cloud service provider'ların ürünleri genel olarak high-level çözümler. Preprocessing yapıyorsa da bunu dışarıya reveal etmeden kendi içinde yapıyor. Google, Amazon, Microsoft tokenization, sentence splitting, lemmatization gibi şeylerden bahsediyor ama çözümleri içinde bunları kullanıyoruz diye anlatıyorlar. Örnek: https://docs.microsoft.com/en-us/azure/architecture/data-guide/technology-choices/natural-language-processing \n",
    "O yüzden bizim preprocessing modülü gibi bir şey sunmuyor bunlar aslında."
   ]
  },
  {
   "cell_type": "markdown",
   "id": "40128adb",
   "metadata": {},
   "source": [
    "- Low level services tarafında AzureHDInsight altında bizim pp modülünün yaptığı şeyleri sunmuş: https://docs.microsoft.com/en-us/azure/architecture/data-guide/technology-choices/natural-language-processing\n",
    "- Bir kısmı Spark NLP, bir kısmı Spark MLlib tarafından yapılıyor."
   ]
  },
  {
   "cell_type": "markdown",
   "id": "fe53fb77",
   "metadata": {},
   "source": [
    "### 3.1 Spark-NLP (https://nlp.johnsnowlabs.com/docs/en/annotators):\n",
    "https://pypi.org/project/spark-nlp\n",
    "- Stopword removal (https://nlp.johnsnowlabs.com/2020/07/14/stopwords_tr.html)\n",
    "- Lemmatization: yok.\n",
    "- Tokenization: general purpose\n",
    "- Normalization: general purpose (removing punctuations, lowercase, etc)\n",
    "\n",
    "Corpus vb Resource'lar: https://github.com/JohnSnowLabs/spark-nlp/tree/master/src/test/resources"
   ]
  },
  {
   "cell_type": "markdown",
   "id": "0bf65f22",
   "metadata": {},
   "source": [
    "### 4. IBM Watson Natural Language Understanding (https://www.ibm.com/cloud/watson-natural-language-understanding/details):\n",
    "\n",
    "Google, Amazon, Azure benzeri high-level çözümleri var.\n",
    "- Sentiment Analysis\n",
    "- NER\n",
    "- Keyword Extraction\n",
    "- Classification (custom)\n",
    "- Dependency Parsing\n",
    "\n",
    "Türkçe destek hiç yok. \n",
    "https://cloud.ibm.com/docs/natural-language-understanding?topic=natural-language-understanding-language-support\n"
   ]
  },
  {
   "cell_type": "markdown",
   "id": "ded60d4a",
   "metadata": {},
   "source": [
    "### 5. Starlang - Olcay Taner Yıldız (Özyeğin'de CS hocası):\n",
    "https://starlangyazilim.com/services/\n",
    "\n",
    "Web sitelerindeki ürünler:\n",
    "- Sentiment Analysis\n",
    "- Corpus, WordNet, Dictionary\n",
    "\n",
    "Github repo'larında Python, C++, Java, Swift dillerinde:\n",
    "- Morphological Analysis/Disambiguator:\n",
    "    - github'daki implementasyonlarını bu konuya çalışırken denemiştim ve çalışmıyordu.\n",
    "- Dependency Parsing\n",
    "- Semantic Role Labeling\n",
    "- Spelling correction\n",
    "- Deascifier\n",
    "- NER\n",
    "- NGram with smoothing\n",
    "- Word2Vec"
   ]
  },
  {
   "cell_type": "markdown",
   "id": "6242d9b8",
   "metadata": {},
   "source": [
    "### 6. Fixy - Typo/Spelling Correction Solution\n",
    "https://github.com/Fixy-TR/fixy\n",
    "\n",
    "- DE-DA, Kİ ve Mİ yazım hatalarını contextual (Bi-LSTM) düzeltiyor.\n",
    "- Noisy/spelling error/typo üreten bir şey de yapmışlar: https://github.com/Fixy-TR/fixy/blob/master/Noise_Adder_Functions.ipynb\n",
    "\n",
    "- Sentiment analysis\n",
    "- Formal/Informal text classification"
   ]
  },
  {
   "cell_type": "markdown",
   "id": "59731c27",
   "metadata": {},
   "source": [
    "### 6. Artiwise\n",
    "https://www.artiwise.com/en/artiwise-text-analytics-platform/\n",
    "\n",
    "- Sentiment\n",
    "- NER\n",
    "- Trending topics (Keyword)\n",
    "- Classification\n",
    "- Root cause analysis"
   ]
  },
  {
   "cell_type": "markdown",
   "id": "e1f9bb6b",
   "metadata": {},
   "source": [
    "#### Turkish AI Startups\n",
    "https://turkiye.ai/en/start-ups/"
   ]
  },
  {
   "cell_type": "markdown",
   "id": "332ed7e8",
   "metadata": {},
   "source": [
    "**NLP Cloud Services list**\n",
    "https://www.researchgate.net/publication/329484496_Cloud_Services_for_Natural_Language_Processing"
   ]
  }
 ],
 "metadata": {
  "kernelspec": {
   "display_name": "Python 3 (ipykernel)",
   "language": "python",
   "name": "python3"
  },
  "language_info": {
   "codemirror_mode": {
    "name": "ipython",
    "version": 3
   },
   "file_extension": ".py",
   "mimetype": "text/x-python",
   "name": "python",
   "nbconvert_exporter": "python",
   "pygments_lexer": "ipython3",
   "version": "3.7.9"
  }
 },
 "nbformat": 4,
 "nbformat_minor": 5
}
