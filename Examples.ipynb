{
 "cells": [
  {
   "cell_type": "markdown",
   "metadata": {},
   "source": [
    "#### Morphological Analyzer"
   ]
  },
  {
   "cell_type": "code",
   "execution_count": 1,
   "metadata": {
    "scrolled": true
   },
   "outputs": [],
   "source": [
    "from pp.stemmer_morph_analyzer import StemmerAnalyzer\n",
    "sa = StemmerAnalyzer()"
   ]
  },
  {
   "cell_type": "code",
   "execution_count": 2,
   "metadata": {},
   "outputs": [
    {
     "data": {
      "text/plain": [
       "['üniversite+Noun+A3sg+Pnon+Nom',\n",
       " 'sınav+Noun+A3pl+P3sg+Dat',\n",
       " 'can+Noun+A3sg+Pnon+Ins',\n",
       " 'baş+Noun+A3sg+Pnon+Ins',\n",
       " 'çalış+Verb+Pos+Prog1+A3pl+Past']"
      ]
     },
     "execution_count": 2,
     "metadata": {},
     "output_type": "execute_result"
    }
   ],
   "source": [
    "sa.predict(\"üniversite sınavlarına canla başla çalışıyorlardı\")"
   ]
  },
  {
   "cell_type": "code",
   "execution_count": 3,
   "metadata": {},
   "outputs": [
    {
     "data": {
      "text/plain": [
       "['şimdi+Adverb', 'baş+Noun+A3sg+Pnon+Abl', 'başla+Verb+Pres+A3sg']"
      ]
     },
     "execution_count": 3,
     "metadata": {},
     "output_type": "execute_result"
    }
   ],
   "source": [
    "sa.predict(\"şimdi baştan başla\")"
   ]
  },
  {
   "cell_type": "code",
   "execution_count": 4,
   "metadata": {},
   "outputs": [
    {
     "data": {
      "text/plain": [
       "['baba+Noun+A3sg+P1sg+Nom',\n",
       " 'ben+Pron+Pers+A1sg+Pnon+Dat',\n",
       " 'at+Noun+A3sg+Pnon+Nom',\n",
       " 'al+Verb+Pos+Past+A3sg']"
      ]
     },
     "execution_count": 4,
     "metadata": {},
     "output_type": "execute_result"
    }
   ],
   "source": [
    "sa.predict(\"babam bana at aldı\")"
   ]
  },
  {
   "cell_type": "code",
   "execution_count": 5,
   "metadata": {},
   "outputs": [
    {
     "data": {
      "text/plain": [
       "['eser+Noun+A3sg+Pnon+Nom',\n",
       " 'miktar+Noun+A3sg+Pnon+Loc^DB+Adj+Rel',\n",
       " 'geçici+Adj',\n",
       " 'bir+Det',\n",
       " 'güvenlik+Noun+A3sg+Pnon+Nom',\n",
       " 'için+Postp+PCNom',\n",
       " 'temel+Noun+A3sg+Pnon+Nom',\n",
       " 'özgür+Adj^DB+Noun+Ness+A3sg+P3pl+Abl',\n",
       " 'vazgeç+Verb+Pos^DB+Adj+PresPart^DB+Noun+Zero+A3pl+Pnon+Nom',\n",
       " ',+Punc',\n",
       " 'ne+Adj',\n",
       " 'özgür+Adj^DB+Noun+Ness+A3sg+P3sg+Nom',\n",
       " 'ne+Adj',\n",
       " 'de+Conj',\n",
       " 'güvenlik+Noun+A3sg+P3sg+Nom',\n",
       " 'hak+Noun+A3sg+Pnon+Nom',\n",
       " 'et+Verb+Pos+Aor+A3pl',\n",
       " '.+Punc',\n",
       " 'benjamin+Noun+A3sg+Pnon+Nom',\n",
       " 'franklin+Noun+A3sg+Pnon+Nom']"
      ]
     },
     "execution_count": 5,
     "metadata": {},
     "output_type": "execute_result"
    }
   ],
   "source": [
    "sa.predict(\"Eser miktardaki geçici bir güvenlik için temel özgürlüklerinden vazgeçenler, ne özgürlüğü ne de güvenliği hak ederler. Benjamin Franklin\")"
   ]
  },
  {
   "cell_type": "code",
   "execution_count": 6,
   "metadata": {},
   "outputs": [
    {
     "data": {
      "text/plain": [
       "['Ahmet+Noun+Prop+A3sg+Pnon+Nom',\n",
       " 'o+Det',\n",
       " 'yol+Noun+A3sg+Pnon+Abl',\n",
       " 'gir+Verb+Neg+Desr+A2sg',\n",
       " 'daha+Adverb',\n",
       " 'iyi+Adj',\n",
       " 'ol+Verb+Pos+Aor+A3sg']"
      ]
     },
     "execution_count": 6,
     "metadata": {},
     "output_type": "execute_result"
    }
   ],
   "source": [
    "sa.predict(\"Ahmet o yoldan girmesen daha iyi olur\")"
   ]
  },
  {
   "cell_type": "markdown",
   "metadata": {},
   "source": [
    "#### Named Entity Recognizer"
   ]
  },
  {
   "cell_type": "code",
   "execution_count": 7,
   "metadata": {},
   "outputs": [],
   "source": [
    "from pp.named_entitiy_recognizer import NamedEntityRecognizer\n",
    "ner = NamedEntityRecognizer()"
   ]
  },
  {
   "cell_type": "code",
   "execution_count": 8,
   "metadata": {},
   "outputs": [
    {
     "data": {
      "text/plain": [
       "[('Benim', 'O'),\n",
       " ('adım', 'O'),\n",
       " ('Melikşah', 'PER'),\n",
       " (',', 'O'),\n",
       " ('28', 'O'),\n",
       " ('yaşındayım', 'O'),\n",
       " (',', 'O'),\n",
       " ('İstanbul', 'LOC'),\n",
       " (\"'\", 'O'),\n",
       " ('da', 'O'),\n",
       " ('ikamet', 'O'),\n",
       " ('ediyorum', 'O'),\n",
       " ('ve', 'O'),\n",
       " ('VNGRS', 'ORG'),\n",
       " ('AI', 'ORG'),\n",
       " ('Takımı', 'ORG'),\n",
       " (\"'\", 'O'),\n",
       " ('nda', 'O'),\n",
       " ('Aydın', 'PER'),\n",
       " ('ile', 'O'),\n",
       " ('birlikte', 'O'),\n",
       " ('çalışıyorum', 'O'),\n",
       " ('.', 'O')]"
      ]
     },
     "execution_count": 8,
     "metadata": {},
     "output_type": "execute_result"
    }
   ],
   "source": [
    "ner.predict(\"Benim adım Melikşah, 28 yaşındayım, İstanbul'da ikamet ediyorum ve VNGRS AI Takımı'nda Aydın ile birlikte çalışıyorum.\")"
   ]
  },
  {
   "cell_type": "code",
   "execution_count": 9,
   "metadata": {},
   "outputs": [
    {
     "data": {
      "text/plain": [
       "[('Cumhurbaşkanı', 'O'),\n",
       " ('Ahmet', 'PER'),\n",
       " ('Necdet', 'PER'),\n",
       " ('Sezer', 'PER'),\n",
       " (\"'\", 'O'),\n",
       " ('in', 'O'),\n",
       " ('açıklamalarına', 'O'),\n",
       " ('göre', 'O'),\n",
       " ('Ankara', 'LOC'),\n",
       " (\"'\", 'O'),\n",
       " ('daki', 'O'),\n",
       " ('TBMM', 'ORG'),\n",
       " ('3', 'O'),\n",
       " ('gün', 'O'),\n",
       " ('daha', 'O'),\n",
       " ('tatil', 'O'),\n",
       " ('kalacak', 'O')]"
      ]
     },
     "execution_count": 9,
     "metadata": {},
     "output_type": "execute_result"
    }
   ],
   "source": [
    "ner.predict(\"Cumhurbaşkanı Ahmet Necdet Sezer'in açıklamalarına göre Ankara'daki TBMM 3 gün daha tatil kalacak\")"
   ]
  },
  {
   "cell_type": "code",
   "execution_count": 10,
   "metadata": {},
   "outputs": [
    {
     "data": {
      "text/plain": [
       "[('Meryem', 'PER'),\n",
       " ('Beşer', 'PER'),\n",
       " ('ile', 'O'),\n",
       " ('birlikte', 'O'),\n",
       " ('önce', 'O'),\n",
       " ('Bursa', 'LOC'),\n",
       " (\"'\", 'O'),\n",
       " ('ya', 'O'),\n",
       " ('oradan', 'O'),\n",
       " ('da', 'O'),\n",
       " ('İzmir', 'LOC'),\n",
       " (\"'\", 'O'),\n",
       " ('e', 'O'),\n",
       " ('gittik', 'O'),\n",
       " (',', 'O'),\n",
       " ('haftasonunu', 'O'),\n",
       " ('Foça', 'LOC'),\n",
       " (\"'\", 'O'),\n",
       " ('da', 'O'),\n",
       " ('geçirdik', 'O'),\n",
       " ('.', 'O')]"
      ]
     },
     "execution_count": 10,
     "metadata": {},
     "output_type": "execute_result"
    }
   ],
   "source": [
    "ner.predict(\"Meryem Beşer ile birlikte önce Bursa'ya oradan da İzmir'e gittik, haftasonunu Foça'da geçirdik.\")"
   ]
  },
  {
   "cell_type": "markdown",
   "metadata": {},
   "source": [
    "#### Normalizer\n",
    "- Removes punctuations\n",
    "- Converts numbers to word form\n",
    "- Removes accent marks\n",
    "- Deascification\n",
    "- Corrects typos using:\n",
    "    - pre-defined typos lexicon\n",
    "    - Levenshtein distance\n",
    "    - morphological analysis"
   ]
  },
  {
   "cell_type": "code",
   "execution_count": 1,
   "metadata": {},
   "outputs": [],
   "source": [
    "from pp.normalizer import Normalizer\n",
    "n = Normalizer()"
   ]
  },
  {
   "cell_type": "code",
   "execution_count": 2,
   "metadata": {},
   "outputs": [
    {
     "data": {
      "text/plain": [
       "'noktalamalı test cümlesidir'"
      ]
     },
     "execution_count": 2,
     "metadata": {},
     "output_type": "execute_result"
    }
   ],
   "source": [
    "n.remove_punctuations(\"noktalamalı test cümlesidir...\")"
   ]
  },
  {
   "cell_type": "code",
   "execution_count": 3,
   "metadata": {},
   "outputs": [
    {
     "data": {
      "text/plain": [
       "['böyle', 'şey', 'görmedim', 'duymadım']"
      ]
     },
     "execution_count": 3,
     "metadata": {},
     "output_type": "execute_result"
    }
   ],
   "source": [
    "n.deasciify(\"boyle sey gormedim duymadim\".split())"
   ]
  },
  {
   "cell_type": "code",
   "execution_count": 18,
   "metadata": {},
   "outputs": [
    {
     "data": {
      "text/plain": [
       "['sabah',\n",
       " 'üç',\n",
       " 'yumurta',\n",
       " 'yedim',\n",
       " 've',\n",
       " 'tartıldığımda',\n",
       " 'bir',\n",
       " 'virgül',\n",
       " 'on',\n",
       " 'beş',\n",
       " 'kilogram',\n",
       " 'aldığımı',\n",
       " 'gördüm']"
      ]
     },
     "execution_count": 18,
     "metadata": {},
     "output_type": "execute_result"
    }
   ],
   "source": [
    "n.convert_number_to_word(\"sabah 3 yumurta yedim ve tartıldığımda 1.15 kilogram aldığımı gördüm\".split())"
   ]
  },
  {
   "cell_type": "code",
   "execution_count": null,
   "metadata": {},
   "outputs": [],
   "source": [
    "n.remove_accent_marks(\"merhâbâ gûzel yîlkî atî\")"
   ]
  },
  {
   "cell_type": "code",
   "execution_count": null,
   "metadata": {},
   "outputs": [],
   "source": [
    "n.correct_typos(\"kasssıtllı yazişm hatasıı\".split())"
   ]
  },
  {
   "cell_type": "code",
   "execution_count": null,
   "metadata": {},
   "outputs": [],
   "source": [
    "n.correct_typos(\"bakarıekn\".split())"
   ]
  },
  {
   "cell_type": "markdown",
   "metadata": {},
   "source": [
    "#### Sentence Splitter"
   ]
  },
  {
   "cell_type": "code",
   "execution_count": 18,
   "metadata": {},
   "outputs": [],
   "source": [
    "from pp.sentence_splitter import SentenceSplitter\n",
    "ss = SentenceSplitter()"
   ]
  },
  {
   "cell_type": "code",
   "execution_count": 19,
   "metadata": {},
   "outputs": [
    {
     "data": {
      "text/plain": [
       "['Av. Meryem Beşer, 3.5 yıldır süren dava ile ilgili dedi ki, \"Duruşma bitti, dava lehimize sonuçlandı.\"',\n",
       " 'Bu harika bir haber!']"
      ]
     },
     "execution_count": 19,
     "metadata": {},
     "output_type": "execute_result"
    }
   ],
   "source": [
    "ss.split_sentences('Av. Meryem Beşer, 3.5 yıldır süren dava ile ilgili dedi ki, \"Duruşma bitti, dava lehimize sonuçlandı.\" Bu harika bir haber!')"
   ]
  },
  {
   "cell_type": "code",
   "execution_count": 20,
   "metadata": {},
   "outputs": [
    {
     "data": {
      "text/plain": [
       "['4. Murat, diğer yazım şekli ile IV. Murat, alkollü içecekleri halka yasaklamıştı.']"
      ]
     },
     "execution_count": 20,
     "metadata": {},
     "output_type": "execute_result"
    }
   ],
   "source": [
    "ss.split_sentences('4. Murat, diğer yazım şekli ile IV. Murat, alkollü içecekleri halka yasaklamıştı.')"
   ]
  },
  {
   "cell_type": "markdown",
   "metadata": {},
   "source": [
    "#### Stopword Remover\n",
    "- Static: uses pre-defined lexicon of stopwords\n",
    "- Dynamic: detects stop-words regardless of language and context\n",
    "    - optional: can detect and drop rare-words (frequency of 1)"
   ]
  },
  {
   "cell_type": "code",
   "execution_count": 21,
   "metadata": {},
   "outputs": [],
   "source": [
    "from pp.stopword_remover import StopwordRemover\n",
    "sr = StopwordRemover()"
   ]
  },
  {
   "cell_type": "code",
   "execution_count": 22,
   "metadata": {},
   "outputs": [
    {
     "data": {
      "text/plain": [
       "['bugün', 'kahvaltıda', 'kahve', 'çay', 'içsem', 'süt', 'içeyim']"
      ]
     },
     "execution_count": 22,
     "metadata": {},
     "output_type": "execute_result"
    }
   ],
   "source": [
    "sentence = \"acaba bugün kahvaltıda kahve yerine çay mı içsem ya da neyse süt içeyim\"\n",
    "sr.drop_stop_words(sentence.split(\" \"))"
   ]
  },
  {
   "cell_type": "code",
   "execution_count": 23,
   "metadata": {},
   "outputs": [],
   "source": [
    "sentence = \"ben bugün gidip aşı olacağım sonra da eve gelip telefon açacağım aşı nasıl etkiledi eve gelip anlatırım aşı olmak bu dönemde çok ama ama ama ama çok önemli\"\n",
    "sr.dynamically_detect_stop_words(sentence.split())"
   ]
  },
  {
   "cell_type": "code",
   "execution_count": 24,
   "metadata": {},
   "outputs": [
    {
     "data": {
      "text/plain": [
       "['ama', 'aşı', 'gelip', 'eve']"
      ]
     },
     "execution_count": 24,
     "metadata": {},
     "output_type": "execute_result"
    }
   ],
   "source": [
    "sr.dynamic_stop_words"
   ]
  },
  {
   "cell_type": "code",
   "execution_count": 25,
   "metadata": {},
   "outputs": [],
   "source": [
    "sr.unify_stop_words()"
   ]
  },
  {
   "cell_type": "code",
   "execution_count": 26,
   "metadata": {},
   "outputs": [
    {
     "data": {
      "text/plain": [
       "['önemli', 'demiş', 'miydim']"
      ]
     },
     "execution_count": 26,
     "metadata": {},
     "output_type": "execute_result"
    }
   ],
   "source": [
    "sr.drop_stop_words(\"aşı olmak önemli demiş miydim\".split())"
   ]
  },
  {
   "cell_type": "markdown",
   "metadata": {},
   "source": [
    "#### Turkish Embeddings"
   ]
  },
  {
   "cell_type": "code",
   "execution_count": 27,
   "metadata": {},
   "outputs": [],
   "source": [
    "from gensim.models import Word2Vec, FastText"
   ]
  },
  {
   "cell_type": "code",
   "execution_count": 28,
   "metadata": {},
   "outputs": [
    {
     "data": {
      "text/plain": [
       "[('saruman', 0.7291593551635742),\n",
       " ('thorin', 0.6473978161811829),\n",
       " ('aragorn', 0.6401687264442444),\n",
       " ('isengard', 0.6123237013816833),\n",
       " ('orklar', 0.59786057472229),\n",
       " ('gollum', 0.5905635952949524),\n",
       " ('baggins', 0.5837421417236328),\n",
       " ('frodo', 0.5819021463394165),\n",
       " ('belgarath', 0.5811135172843933),\n",
       " ('sauron', 0.5763844847679138),\n",
       " ('elfler', 0.5758092999458313),\n",
       " ('bilbo', 0.5729959607124329),\n",
       " ('tyrion', 0.5728499889373779),\n",
       " ('rohan', 0.556411862373352),\n",
       " ('lancelot', 0.5517111420631409),\n",
       " ('mordor', 0.550175130367279),\n",
       " ('bran', 0.5482109189033508),\n",
       " ('goblin', 0.5393625497817993),\n",
       " ('thor', 0.5280926823616028),\n",
       " ('vader', 0.5258742570877075)]"
      ]
     },
     "execution_count": 28,
     "metadata": {},
     "output_type": "execute_result"
    }
   ],
   "source": [
    "# Word2Vec\n",
    "model = Word2Vec.load('pp/turkish_embeddings/Word2Vec.model')\n",
    "model.wv.most_similar('gandalf', topn = 20)"
   ]
  },
  {
   "cell_type": "code",
   "execution_count": 29,
   "metadata": {},
   "outputs": [
    {
     "data": {
      "text/plain": [
       "[('kayalardan', 0.8601457476615906),\n",
       " ('kayalıklardan', 0.8567330837249756),\n",
       " ('tepelerden', 0.8423191905021667),\n",
       " ('ormanlardan', 0.8362939357757568),\n",
       " ('dağlardan', 0.8140010833740234),\n",
       " ('amaçlardan', 0.810560405254364),\n",
       " ('bloklardan', 0.803180992603302),\n",
       " ('otlardan', 0.8026642203330994),\n",
       " ('kısımlardan', 0.7993910312652588),\n",
       " ('ağaçlardan', 0.7961613535881042),\n",
       " ('dallardan', 0.7949419617652893),\n",
       " ('sahalardan', 0.7865065932273865),\n",
       " ('adalardan', 0.7819225788116455),\n",
       " ('sulardan', 0.7781057953834534),\n",
       " ('taşlardan', 0.7746424078941345),\n",
       " ('kuyulardan', 0.7689613103866577),\n",
       " ('köşelerden', 0.7678262591362),\n",
       " ('tünellerden', 0.7674043774604797),\n",
       " ('atlardan', 0.7657977342605591),\n",
       " ('kanatlardan', 0.7640945911407471)]"
      ]
     },
     "execution_count": 29,
     "metadata": {},
     "output_type": "execute_result"
    }
   ],
   "source": [
    "# FastText\n",
    "model = Word2Vec.load('pp/turkish_embeddings/FastText.model')\n",
    "model.wv.most_similar('yamaçlardan', topn = 20)"
   ]
  }
 ],
 "metadata": {
  "kernelspec": {
   "display_name": "Python 3",
   "language": "python",
   "name": "python3"
  },
  "language_info": {
   "codemirror_mode": {
    "name": "ipython",
    "version": 3
   },
   "file_extension": ".py",
   "mimetype": "text/x-python",
   "name": "python",
   "nbconvert_exporter": "python",
   "pygments_lexer": "ipython3",
   "version": "3.7.9"
  }
 },
 "nbformat": 4,
 "nbformat_minor": 5
}
