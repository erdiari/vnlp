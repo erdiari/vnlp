{
 "cells": [
  {
   "cell_type": "markdown",
   "id": "6c310b03",
   "metadata": {},
   "source": [
    "#### Morphological Analyzer"
   ]
  },
  {
   "cell_type": "code",
   "execution_count": 1,
   "id": "cdae2a11",
   "metadata": {
    "scrolled": true
   },
   "outputs": [],
   "source": [
    "from vnlp import StemmerAnalyzer\n",
    "stemmer_analyzer = StemmerAnalyzer()"
   ]
  },
  {
   "cell_type": "code",
   "execution_count": 2,
   "id": "7d97f600",
   "metadata": {},
   "outputs": [
    {
     "data": {
      "text/plain": [
       "['üniversite+Noun+A3sg+Pnon+Nom',\n",
       " 'sınav+Noun+A3pl+P3sg+Dat',\n",
       " 'can+Noun+A3sg+Pnon+Ins',\n",
       " 'baş+Noun+A3sg+Pnon+Ins',\n",
       " 'çalış+Verb+Pos+Prog1+A3pl+Past',\n",
       " '.+Punc']"
      ]
     },
     "execution_count": 2,
     "metadata": {},
     "output_type": "execute_result"
    }
   ],
   "source": [
    "stemmer_analyzer.predict(\"Üniversite sınavlarına canla başla çalışıyorlardı.\")"
   ]
  },
  {
   "cell_type": "code",
   "execution_count": 3,
   "id": "3934834e",
   "metadata": {},
   "outputs": [
    {
     "data": {
      "text/plain": [
       "['şimdi+Adverb', 'baş+Noun+A3sg+Pnon+Abl', 'başla+Verb+Pos+Imp+A2sg', '.+Punc']"
      ]
     },
     "execution_count": 3,
     "metadata": {},
     "output_type": "execute_result"
    }
   ],
   "source": [
    "stemmer_analyzer.predict(\"Şimdi baştan başla.\")"
   ]
  },
  {
   "cell_type": "markdown",
   "id": "602313e4",
   "metadata": {},
   "source": [
    "#### Named Entity Recognizer"
   ]
  },
  {
   "cell_type": "code",
   "execution_count": 4,
   "id": "886e1623",
   "metadata": {},
   "outputs": [],
   "source": [
    "from vnlp import NamedEntityRecognizer\n",
    "ner = NamedEntityRecognizer()"
   ]
  },
  {
   "cell_type": "code",
   "execution_count": 5,
   "id": "612d529a",
   "metadata": {},
   "outputs": [
    {
     "data": {
      "text/plain": [
       "[('Benim', 'O'),\n",
       " ('adım', 'O'),\n",
       " ('Melikşah', 'PER'),\n",
       " (',', 'O'),\n",
       " ('29', 'O'),\n",
       " ('yaşındayım', 'O'),\n",
       " (',', 'O'),\n",
       " ('İstanbul', 'LOC'),\n",
       " (\"'\", 'O'),\n",
       " ('da', 'O'),\n",
       " ('ikamet', 'O'),\n",
       " ('ediyorum', 'O'),\n",
       " ('ve', 'O'),\n",
       " ('VNGRS', 'ORG'),\n",
       " ('AI', 'ORG'),\n",
       " ('Takımı', 'ORG'),\n",
       " (\"'\", 'O'),\n",
       " ('nda', 'O'),\n",
       " ('Aydın', 'PER'),\n",
       " ('ile', 'O'),\n",
       " ('birlikte', 'O'),\n",
       " ('çalışıyorum', 'O'),\n",
       " ('.', 'O')]"
      ]
     },
     "execution_count": 5,
     "metadata": {},
     "output_type": "execute_result"
    }
   ],
   "source": [
    "ner.predict(\"Benim adım Melikşah, 29 yaşındayım, İstanbul'da ikamet ediyorum ve VNGRS AI Takımı'nda Aydın ile birlikte çalışıyorum.\")"
   ]
  },
  {
   "cell_type": "markdown",
   "id": "e11c01c0",
   "metadata": {},
   "source": [
    "#### Dependency Parser"
   ]
  },
  {
   "cell_type": "code",
   "execution_count": 6,
   "id": "a1c42cff",
   "metadata": {},
   "outputs": [],
   "source": [
    "from vnlp import DependencyParser\n",
    "dep_parser = DependencyParser()"
   ]
  },
  {
   "cell_type": "code",
   "execution_count": 7,
   "id": "9eba1ed4",
   "metadata": {
    "scrolled": false
   },
   "outputs": [
    {
     "data": {
      "text/plain": [
       "[(1, \"Maltepe'nin\", 2, 'nmod'),\n",
       " (2, 'turlamak', 5, 'obl'),\n",
       " (3, 'için', 2, 'case'),\n",
       " (4, 'güzel', 5, 'amod'),\n",
       " (5, 'bir', 7, 'nmod'),\n",
       " (6, 'sahil', 7, 'nmod'),\n",
       " (7, 'yolu', 9, 'nsubj'),\n",
       " (8, ',', 7, 'punct'),\n",
       " (9, 'bir', 12, 'nmod'),\n",
       " (10, 'de', 9, 'flat'),\n",
       " (11, \"Dragos'u\", 9, 'flat'),\n",
       " (12, 'vardır', 0, 'root'),\n",
       " (13, '.', 12, 'punct')]"
      ]
     },
     "execution_count": 7,
     "metadata": {},
     "output_type": "execute_result"
    }
   ],
   "source": [
    "dep_parser.predict(\"Maltepe'nin turlamak için güzel bir sahil yolu, bir de Dragos'u vardır.\")"
   ]
  },
  {
   "cell_type": "code",
   "execution_count": 8,
   "id": "e29e2a02",
   "metadata": {},
   "outputs": [],
   "source": [
    "from spacy import displacy"
   ]
  },
  {
   "cell_type": "code",
   "execution_count": 9,
   "id": "72792075",
   "metadata": {},
   "outputs": [
    {
     "data": {
      "text/html": [
       "<span class=\"tex2jax_ignore\"><svg xmlns=\"http://www.w3.org/2000/svg\" xmlns:xlink=\"http://www.w3.org/1999/xlink\" xml:lang=\"en\" id=\"b29d2f05a7dd4758992a8a4fcbd80396-0\" class=\"displacy\" width=\"650\" height=\"237.0\" direction=\"ltr\" style=\"max-width: none; height: 237.0px; color: #000000; background: #ffffff; font-family: Arial; direction: ltr\">\n",
       "<text class=\"displacy-token\" fill=\"currentColor\" text-anchor=\"middle\" y=\"147.0\">\n",
       "    <tspan class=\"displacy-word\" fill=\"currentColor\" x=\"50\">Oğuz'un</tspan>\n",
       "    <tspan class=\"displacy-tag\" dy=\"2em\" fill=\"currentColor\" x=\"50\">PROPN</tspan>\n",
       "</text>\n",
       "\n",
       "<text class=\"displacy-token\" fill=\"currentColor\" text-anchor=\"middle\" y=\"147.0\">\n",
       "    <tspan class=\"displacy-word\" fill=\"currentColor\" x=\"150\">kırmızı</tspan>\n",
       "    <tspan class=\"displacy-tag\" dy=\"2em\" fill=\"currentColor\" x=\"150\">ADJ</tspan>\n",
       "</text>\n",
       "\n",
       "<text class=\"displacy-token\" fill=\"currentColor\" text-anchor=\"middle\" y=\"147.0\">\n",
       "    <tspan class=\"displacy-word\" fill=\"currentColor\" x=\"250\">bir</tspan>\n",
       "    <tspan class=\"displacy-tag\" dy=\"2em\" fill=\"currentColor\" x=\"250\">DET</tspan>\n",
       "</text>\n",
       "\n",
       "<text class=\"displacy-token\" fill=\"currentColor\" text-anchor=\"middle\" y=\"147.0\">\n",
       "    <tspan class=\"displacy-word\" fill=\"currentColor\" x=\"350\">Astra'sı</tspan>\n",
       "    <tspan class=\"displacy-tag\" dy=\"2em\" fill=\"currentColor\" x=\"350\">PROPN</tspan>\n",
       "</text>\n",
       "\n",
       "<text class=\"displacy-token\" fill=\"currentColor\" text-anchor=\"middle\" y=\"147.0\">\n",
       "    <tspan class=\"displacy-word\" fill=\"currentColor\" x=\"450\">vardı</tspan>\n",
       "    <tspan class=\"displacy-tag\" dy=\"2em\" fill=\"currentColor\" x=\"450\">VERB</tspan>\n",
       "</text>\n",
       "\n",
       "<text class=\"displacy-token\" fill=\"currentColor\" text-anchor=\"middle\" y=\"147.0\">\n",
       "    <tspan class=\"displacy-word\" fill=\"currentColor\" x=\"550\">.</tspan>\n",
       "    <tspan class=\"displacy-tag\" dy=\"2em\" fill=\"currentColor\" x=\"550\">PUNCT</tspan>\n",
       "</text>\n",
       "\n",
       "<g class=\"displacy-arrow\">\n",
       "    <path class=\"displacy-arc\" id=\"arrow-b29d2f05a7dd4758992a8a4fcbd80396-0-0\" stroke-width=\"2px\" d=\"M62,102.0 C62,2.0 250.0,2.0 250.0,102.0\" fill=\"none\" stroke=\"currentColor\"/>\n",
       "    <text dy=\"1.25em\" style=\"font-size: 0.8em; letter-spacing: 1px\">\n",
       "        <textPath xlink:href=\"#arrow-b29d2f05a7dd4758992a8a4fcbd80396-0-0\" class=\"displacy-label\" startOffset=\"50%\" side=\"left\" fill=\"currentColor\" text-anchor=\"middle\">nmod</textPath>\n",
       "    </text>\n",
       "    <path class=\"displacy-arrowhead\" d=\"M250.0,104.0 L258.0,92.0 242.0,92.0\" fill=\"currentColor\"/>\n",
       "</g>\n",
       "\n",
       "<g class=\"displacy-arrow\">\n",
       "    <path class=\"displacy-arc\" id=\"arrow-b29d2f05a7dd4758992a8a4fcbd80396-0-1\" stroke-width=\"2px\" d=\"M162,102.0 C162,52.0 247.0,52.0 247.0,102.0\" fill=\"none\" stroke=\"currentColor\"/>\n",
       "    <text dy=\"1.25em\" style=\"font-size: 0.8em; letter-spacing: 1px\">\n",
       "        <textPath xlink:href=\"#arrow-b29d2f05a7dd4758992a8a4fcbd80396-0-1\" class=\"displacy-label\" startOffset=\"50%\" side=\"left\" fill=\"currentColor\" text-anchor=\"middle\">amod</textPath>\n",
       "    </text>\n",
       "    <path class=\"displacy-arrowhead\" d=\"M247.0,104.0 L255.0,92.0 239.0,92.0\" fill=\"currentColor\"/>\n",
       "</g>\n",
       "\n",
       "<g class=\"displacy-arrow\">\n",
       "    <path class=\"displacy-arc\" id=\"arrow-b29d2f05a7dd4758992a8a4fcbd80396-0-2\" stroke-width=\"2px\" d=\"M262,102.0 C262,52.0 347.0,52.0 347.0,102.0\" fill=\"none\" stroke=\"currentColor\"/>\n",
       "    <text dy=\"1.25em\" style=\"font-size: 0.8em; letter-spacing: 1px\">\n",
       "        <textPath xlink:href=\"#arrow-b29d2f05a7dd4758992a8a4fcbd80396-0-2\" class=\"displacy-label\" startOffset=\"50%\" side=\"left\" fill=\"currentColor\" text-anchor=\"middle\">nmod</textPath>\n",
       "    </text>\n",
       "    <path class=\"displacy-arrowhead\" d=\"M347.0,104.0 L355.0,92.0 339.0,92.0\" fill=\"currentColor\"/>\n",
       "</g>\n",
       "\n",
       "<g class=\"displacy-arrow\">\n",
       "    <path class=\"displacy-arc\" id=\"arrow-b29d2f05a7dd4758992a8a4fcbd80396-0-3\" stroke-width=\"2px\" d=\"M362,102.0 C362,52.0 447.0,52.0 447.0,102.0\" fill=\"none\" stroke=\"currentColor\"/>\n",
       "    <text dy=\"1.25em\" style=\"font-size: 0.8em; letter-spacing: 1px\">\n",
       "        <textPath xlink:href=\"#arrow-b29d2f05a7dd4758992a8a4fcbd80396-0-3\" class=\"displacy-label\" startOffset=\"50%\" side=\"left\" fill=\"currentColor\" text-anchor=\"middle\">conj</textPath>\n",
       "    </text>\n",
       "    <path class=\"displacy-arrowhead\" d=\"M362,104.0 L354,92.0 370,92.0\" fill=\"currentColor\"/>\n",
       "</g>\n",
       "\n",
       "<g class=\"displacy-arrow\">\n",
       "    <path class=\"displacy-arc\" id=\"arrow-b29d2f05a7dd4758992a8a4fcbd80396-0-4\" stroke-width=\"2px\" d=\"M462,102.0 C462,52.0 547.0,52.0 547.0,102.0\" fill=\"none\" stroke=\"currentColor\"/>\n",
       "    <text dy=\"1.25em\" style=\"font-size: 0.8em; letter-spacing: 1px\">\n",
       "        <textPath xlink:href=\"#arrow-b29d2f05a7dd4758992a8a4fcbd80396-0-4\" class=\"displacy-label\" startOffset=\"50%\" side=\"left\" fill=\"currentColor\" text-anchor=\"middle\">punct</textPath>\n",
       "    </text>\n",
       "    <path class=\"displacy-arrowhead\" d=\"M462,104.0 L454,92.0 470,92.0\" fill=\"currentColor\"/>\n",
       "</g>\n",
       "</svg></span>"
      ],
      "text/plain": [
       "<IPython.core.display.HTML object>"
      ]
     },
     "metadata": {},
     "output_type": "display_data"
    }
   ],
   "source": [
    "res = dep_parser.predict(\"Oğuz'un kırmızı bir Astra'sı vardı.\", displacy_format = True)\n",
    "# Options: https://spacy.io/api/top-level#displacy_options\n",
    "opts = {'distance': 100,\n",
    "        'word_spacing': 45,\n",
    "        'arrow_stroke': 2, # arrow body width\n",
    "        'arrow_width': 10, # arrow head width\n",
    "        'arrow_spacing': 12,# space between arrows\n",
    "        'compact': False # square arrows\n",
    "}\n",
    "displacy.render(res, style=\"dep\", options = opts, manual = True)"
   ]
  },
  {
   "cell_type": "markdown",
   "id": "a5624a47",
   "metadata": {},
   "source": [
    "#### Part of Speech Tagger"
   ]
  },
  {
   "cell_type": "code",
   "execution_count": 10,
   "id": "3981c308",
   "metadata": {},
   "outputs": [],
   "source": [
    "from vnlp import PoSTagger\n",
    "pos_tagger = PoSTagger()"
   ]
  },
  {
   "cell_type": "code",
   "execution_count": 11,
   "id": "ce6977ef",
   "metadata": {},
   "outputs": [
    {
     "data": {
      "text/plain": [
       "[('Vapurla', 'NOUN'),\n",
       " (\"Beşiktaş'a\", 'PROPN'),\n",
       " ('geçip', 'ADV'),\n",
       " ('yürüyerek', 'VERB'),\n",
       " ('Maçka', 'PROPN'),\n",
       " (\"Parkı'na\", 'NOUN'),\n",
       " ('ulaştım', 'VERB'),\n",
       " ('.', 'PUNCT')]"
      ]
     },
     "execution_count": 11,
     "metadata": {},
     "output_type": "execute_result"
    }
   ],
   "source": [
    "pos_tagger.predict(\"Vapurla Beşiktaş'a geçip yürüyerek Maçka Parkı'na ulaştım.\")"
   ]
  },
  {
   "cell_type": "markdown",
   "id": "1c3421ae",
   "metadata": {},
   "source": [
    "#### Sentiment Analysis"
   ]
  },
  {
   "cell_type": "code",
   "execution_count": 12,
   "id": "a19c4f55",
   "metadata": {},
   "outputs": [],
   "source": [
    "from vnlp import SentimentAnalyzer\n",
    "sentiment_analyzer = SentimentAnalyzer()"
   ]
  },
  {
   "cell_type": "code",
   "execution_count": 13,
   "id": "4782f1dd",
   "metadata": {},
   "outputs": [
    {
     "data": {
      "text/plain": [
       "0.007859406"
      ]
     },
     "execution_count": 13,
     "metadata": {},
     "output_type": "execute_result"
    }
   ],
   "source": [
    "sentiment_analyzer.predict_proba(\"Sipariş geldiğinde biz karnımızı çoktan atıştırmalıklarla doyurmuştuk.\")"
   ]
  },
  {
   "cell_type": "code",
   "execution_count": 14,
   "id": "7e011191",
   "metadata": {},
   "outputs": [
    {
     "data": {
      "text/plain": [
       "1"
      ]
     },
     "execution_count": 14,
     "metadata": {},
     "output_type": "execute_result"
    }
   ],
   "source": [
    "sentiment_analyzer.predict(\"Servis daha iyi olabilirdi ama lezzet ve hız geçer not aldı.\")"
   ]
  },
  {
   "cell_type": "code",
   "execution_count": 15,
   "id": "7454e45b",
   "metadata": {},
   "outputs": [
    {
     "data": {
      "text/plain": [
       "0.4482034"
      ]
     },
     "execution_count": 15,
     "metadata": {},
     "output_type": "execute_result"
    }
   ],
   "source": [
    "sentiment_analyzer.predict_proba(\"Yemekleriniz o kadar şahaneydi ki artık uzun bir süre meksika yemeği yemeyi düşünmüyorum.\")"
   ]
  },
  {
   "cell_type": "markdown",
   "id": "01b9fdf4",
   "metadata": {},
   "source": [
    "#### Normalizer\n",
    "- Spelling/Typo correction\n",
    "- Converts numbers to word form\n",
    "- Deascification\n",
    "- Lowercasing\n",
    "- Punctuation removal\n",
    "- Accent mark removal"
   ]
  },
  {
   "cell_type": "code",
   "execution_count": 16,
   "id": "bd17944b",
   "metadata": {},
   "outputs": [],
   "source": [
    "from vnlp import Normalizer\n",
    "normalizer = Normalizer()"
   ]
  },
  {
   "cell_type": "code",
   "execution_count": 17,
   "id": "1f8f9e82",
   "metadata": {},
   "outputs": [
    {
     "data": {
      "text/plain": [
       "['kasıtlı', 'yazım', 'hatası', 'ekliyorum']"
      ]
     },
     "execution_count": 17,
     "metadata": {},
     "output_type": "execute_result"
    }
   ],
   "source": [
    "normalizer.correct_typos(\"kassıtlı yaezım hatasssı ekliyorumm\".split())"
   ]
  },
  {
   "cell_type": "code",
   "execution_count": 18,
   "id": "4fb41e55",
   "metadata": {},
   "outputs": [
    {
     "data": {
      "text/plain": [
       "['sabah',\n",
       " 'iki',\n",
       " 'yumurta',\n",
       " 'yedim',\n",
       " 've',\n",
       " 'tartıldığımda',\n",
       " 'bir',\n",
       " 'virgül',\n",
       " 'on',\n",
       " 'beş',\n",
       " 'kilogram',\n",
       " 'aldığımı',\n",
       " 'gördüm']"
      ]
     },
     "execution_count": 18,
     "metadata": {},
     "output_type": "execute_result"
    }
   ],
   "source": [
    "normalizer.convert_numbers_to_words(\"sabah 2 yumurta yedim ve tartıldığımda 1,15 kilogram aldığımı gördüm\".split())"
   ]
  },
  {
   "cell_type": "code",
   "execution_count": 19,
   "id": "88148c71",
   "metadata": {},
   "outputs": [
    {
     "data": {
      "text/plain": [
       "['böyle', 'şey', 'görmedim', 'duymadım']"
      ]
     },
     "execution_count": 19,
     "metadata": {},
     "output_type": "execute_result"
    }
   ],
   "source": [
    "normalizer.deasciify(\"boyle sey gormedim duymadim\".split())"
   ]
  },
  {
   "cell_type": "code",
   "execution_count": 20,
   "id": "50b0567e",
   "metadata": {},
   "outputs": [
    {
     "data": {
      "text/plain": [
       "'test karakterleri: iığüöşç'"
      ]
     },
     "execution_count": 20,
     "metadata": {},
     "output_type": "execute_result"
    }
   ],
   "source": [
    "normalizer.lower_case(\"Test karakterleri: İIĞÜÖŞÇ\")"
   ]
  },
  {
   "cell_type": "code",
   "execution_count": 21,
   "id": "8c029b73",
   "metadata": {},
   "outputs": [
    {
     "data": {
      "text/plain": [
       "'noktalamalı test cümlesidir'"
      ]
     },
     "execution_count": 21,
     "metadata": {},
     "output_type": "execute_result"
    }
   ],
   "source": [
    "normalizer.remove_punctuations(\"noktalamalı test cümlesidir...\")"
   ]
  },
  {
   "cell_type": "code",
   "execution_count": 22,
   "id": "9446830b",
   "metadata": {},
   "outputs": [
    {
     "data": {
      "text/plain": [
       "'merhaba guzel yılkı atı'"
      ]
     },
     "execution_count": 22,
     "metadata": {},
     "output_type": "execute_result"
    }
   ],
   "source": [
    "normalizer.remove_accent_marks(\"merhâbâ gûzel yîlkî atî\")"
   ]
  },
  {
   "cell_type": "markdown",
   "id": "f4f83fd7",
   "metadata": {},
   "source": [
    "#### Sentence Splitter"
   ]
  },
  {
   "cell_type": "code",
   "execution_count": 23,
   "id": "b1c46de2",
   "metadata": {},
   "outputs": [],
   "source": [
    "from vnlp import SentenceSplitter\n",
    "sentence_splitter = SentenceSplitter()"
   ]
  },
  {
   "cell_type": "code",
   "execution_count": 24,
   "id": "37a80618",
   "metadata": {},
   "outputs": [
    {
     "data": {
      "text/plain": [
       "['Av. Meryem Beşer, 3.5 yıldır süren dava ile ilgili dedi ki, \"Duruşma bitti, dava lehimize sonuçlandı.\"',\n",
       " 'Bu harika bir haberdi!']"
      ]
     },
     "execution_count": 24,
     "metadata": {},
     "output_type": "execute_result"
    }
   ],
   "source": [
    "sentence_splitter.split_sentences('Av. Meryem Beşer, 3.5 yıldır süren dava ile ilgili dedi ki, \"Duruşma bitti, dava lehimize sonuçlandı.\" Bu harika bir haberdi!')"
   ]
  },
  {
   "cell_type": "code",
   "execution_count": 25,
   "id": "74bad0f6",
   "metadata": {},
   "outputs": [
    {
     "data": {
      "text/plain": [
       "['4. Murat, diğer yazım şekli ile IV. Murat, alkollü içecekleri halka yasaklamıştı.']"
      ]
     },
     "execution_count": 25,
     "metadata": {},
     "output_type": "execute_result"
    }
   ],
   "source": [
    "sentence_splitter.split_sentences('4. Murat, diğer yazım şekli ile IV. Murat, alkollü içecekleri halka yasaklamıştı.')"
   ]
  },
  {
   "cell_type": "markdown",
   "id": "811c70b6",
   "metadata": {},
   "source": [
    "#### Stopword Remover\n",
    "- Static: uses pre-defined lexicon of stopwords\n",
    "- Dynamic: detects stop-words regardless of language and context\n",
    "    - optional: can detect and drop rare-words"
   ]
  },
  {
   "cell_type": "code",
   "execution_count": 26,
   "id": "5a902786",
   "metadata": {},
   "outputs": [],
   "source": [
    "from vnlp import StopwordRemover\n",
    "stopword_remover = StopwordRemover()"
   ]
  },
  {
   "cell_type": "code",
   "execution_count": 27,
   "id": "c73bcf7e",
   "metadata": {},
   "outputs": [
    {
     "data": {
      "text/plain": [
       "['bugün', 'kahvaltıda', 'kahve', 'çay', 'içsem', 'süt', 'içeyim']"
      ]
     },
     "execution_count": 27,
     "metadata": {},
     "output_type": "execute_result"
    }
   ],
   "source": [
    "sentence = \"acaba bugün kahvaltıda kahve yerine çay mı içsem ya da neyse süt içeyim\"\n",
    "stopword_remover.drop_stop_words(sentence.split())"
   ]
  },
  {
   "cell_type": "code",
   "execution_count": 28,
   "id": "21aa3dd2",
   "metadata": {},
   "outputs": [
    {
     "name": "stdout",
     "output_type": "stream",
     "text": [
      "['ama', 'aşı', 'gelip', 'eve']\n"
     ]
    }
   ],
   "source": [
    "sentence = \"ben bugün gidip aşı olacağım sonra da eve gelip telefon açacağım aşı nasıl etkiledi eve gelip anlatırım aşı olmak bu dönemde çok ama ama ama ama çok önemli\"\n",
    "dynamically_detected_stop_words = stopword_remover.dynamically_detect_stop_words(sentence.split())\n",
    "print(dynamically_detected_stop_words)"
   ]
  },
  {
   "cell_type": "code",
   "execution_count": 29,
   "id": "213c2717",
   "metadata": {},
   "outputs": [],
   "source": [
    "stopword_remover.add_to_stop_words(dynamically_detected_stop_words)"
   ]
  },
  {
   "cell_type": "code",
   "execution_count": 30,
   "id": "ed3f23b1",
   "metadata": {},
   "outputs": [
    {
     "data": {
      "text/plain": [
       "['önemli', 'demiş', 'miydim']"
      ]
     },
     "execution_count": 30,
     "metadata": {},
     "output_type": "execute_result"
    }
   ],
   "source": [
    "stopword_remover.drop_stop_words(\"aşı olmak önemli demiş miydim\".split())"
   ]
  },
  {
   "cell_type": "markdown",
   "id": "7990850b",
   "metadata": {},
   "source": [
    "#### Turkish Embeddings"
   ]
  },
  {
   "cell_type": "code",
   "execution_count": 31,
   "id": "4a134e68",
   "metadata": {},
   "outputs": [],
   "source": [
    "from gensim.models import Word2Vec, FastText"
   ]
  },
  {
   "cell_type": "code",
   "execution_count": 32,
   "id": "e32dcb80",
   "metadata": {},
   "outputs": [
    {
     "data": {
      "text/plain": [
       "[('saruman', 0.7153398394584656),\n",
       " ('geralt', 0.6540620923042297),\n",
       " ('aragorn', 0.6260802149772644),\n",
       " ('thorin', 0.613937258720398),\n",
       " ('orklar', 0.5860564112663269),\n",
       " ('gollum', 0.5781465768814087),\n",
       " ('tyrion', 0.5738440155982971),\n",
       " ('sauron', 0.5715942978858948),\n",
       " ('frodo', 0.5662911534309387),\n",
       " ('lancelot', 0.5607389211654663),\n",
       " ('elfler', 0.5591437816619873),\n",
       " ('bilbo', 0.5585811138153076),\n",
       " ('mordor', 0.5550921559333801),\n",
       " ('baggins', 0.5519346594810486),\n",
       " ('belgarath', 0.5489327311515808),\n",
       " ('titanlar', 0.5449507832527161),\n",
       " ('bran', 0.5402933359146118),\n",
       " ('asgard', 0.5372824668884277),\n",
       " ('thor', 0.5362329483032227),\n",
       " ('uther', 0.5343433618545532)]"
      ]
     },
     "execution_count": 32,
     "metadata": {},
     "output_type": "execute_result"
    }
   ],
   "source": [
    "# Word2Vec\n",
    "model = Word2Vec.load('vnlp/turkish_word_embeddings/Word2Vec_large.model')\n",
    "model.wv.most_similar('gandalf', topn = 20)"
   ]
  },
  {
   "cell_type": "code",
   "execution_count": 33,
   "id": "d09c0bac",
   "metadata": {
    "scrolled": true
   },
   "outputs": [
    {
     "data": {
      "text/plain": [
       "[('kayalardan', 0.8831543326377869),\n",
       " ('tepelerden', 0.8753724694252014),\n",
       " ('kayalıklardan', 0.8729402422904968),\n",
       " ('ormanlardan', 0.8672202229499817),\n",
       " ('dağlardan', 0.8540675044059753),\n",
       " ('otlardan', 0.8288434147834778),\n",
       " ('kısımlardan', 0.8267730474472046),\n",
       " ('ağaçlardan', 0.8248404860496521),\n",
       " ('amaçlardan', 0.8242634534835815),\n",
       " ('bloklardan', 0.820052444934845),\n",
       " ('adalardan', 0.8200141191482544),\n",
       " ('sahalardan', 0.8146253824234009),\n",
       " ('dallardan', 0.8107085824012756),\n",
       " ('kuyulardan', 0.80833500623703),\n",
       " ('oralardan', 0.8079319000244141),\n",
       " ('tünellerden', 0.8079005479812622),\n",
       " ('sulardan', 0.8050841689109802),\n",
       " ('köşelerden', 0.8049306869506836),\n",
       " ('tarlalardan', 0.8024468421936035),\n",
       " ('pisliklerden', 0.800993025302887)]"
      ]
     },
     "execution_count": 33,
     "metadata": {},
     "output_type": "execute_result"
    }
   ],
   "source": [
    "# FastText\n",
    "model = Word2Vec.load('vnlp/turkish_word_embeddings/FastText_large.model')\n",
    "model.wv.most_similar('yamaçlardan', topn = 20)"
   ]
  }
 ],
 "metadata": {
  "kernelspec": {
   "display_name": "Python 3 (ipykernel)",
   "language": "python",
   "name": "python3"
  },
  "language_info": {
   "codemirror_mode": {
    "name": "ipython",
    "version": 3
   },
   "file_extension": ".py",
   "mimetype": "text/x-python",
   "name": "python",
   "nbconvert_exporter": "python",
   "pygments_lexer": "ipython3",
   "version": "3.8.10"
  }
 },
 "nbformat": 4,
 "nbformat_minor": 5
}
