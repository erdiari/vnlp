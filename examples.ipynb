{
 "cells": [
  {
   "cell_type": "markdown",
   "metadata": {},
   "source": [
    "#### Morphological Analyzer"
   ]
  },
  {
   "cell_type": "code",
   "execution_count": 1,
   "metadata": {},
   "outputs": [],
   "source": [
    "import logging\n",
    "logger = logging.getLogger()\n",
    "logger.setLevel(logging.INFO)"
   ]
  },
  {
   "cell_type": "code",
   "execution_count": 2,
   "metadata": {
    "scrolled": true
   },
   "outputs": [
    {
     "name": "stdout",
     "output_type": "stream",
     "text": [
      "2021-09-14 17:10:26,598 - D:\\VNGRS\\Turkish-NLP-preprocessing-module\\pp\\morph_analyzer\\model.py - INFO - 116} - Loading Pre-Trained Model\n",
      "2021-09-14 17:10:28,554 - D:\\VNGRS\\Turkish-NLP-preprocessing-module\\pp\\morph_analyzer\\model.py - INFO - 119} - Ready\n"
     ]
    }
   ],
   "source": [
    "from pp.morph_analyzer import MorphAnalyzer\n",
    "ma = MorphAnalyzer()"
   ]
  },
  {
   "cell_type": "code",
   "execution_count": 3,
   "metadata": {},
   "outputs": [
    {
     "data": {
      "text/plain": [
       "['üniversite+Noun+A3sg+Pnon+Nom',\n",
       " 'sınav+Noun+A3pl+P3sg+Dat',\n",
       " 'can+Noun+A3sg+Pnon+Ins',\n",
       " 'baş+Noun+A3sg+Pnon+Ins',\n",
       " 'çalış+Verb+Pos+Prog1+A3pl+Past']"
      ]
     },
     "execution_count": 3,
     "metadata": {},
     "output_type": "execute_result"
    }
   ],
   "source": [
    "ma.predict(\"üniversite sınavlarına canla başla çalışıyorlardı\")"
   ]
  },
  {
   "cell_type": "code",
   "execution_count": 4,
   "metadata": {},
   "outputs": [
    {
     "data": {
      "text/plain": [
       "['şimdi+Adverb', 'baş+Noun+A3sg+Pnon+Abl', 'başla+Verb+Pos+Imp+A2sg']"
      ]
     },
     "execution_count": 4,
     "metadata": {},
     "output_type": "execute_result"
    }
   ],
   "source": [
    "ma.predict(\"şimdi baştan başla\")"
   ]
  },
  {
   "cell_type": "code",
   "execution_count": 5,
   "metadata": {},
   "outputs": [
    {
     "data": {
      "text/plain": [
       "['koş+Verb+Pos+Imp+A2sg',\n",
       " 'da+Conj',\n",
       " 'top+Noun+A3sg+P3sg+Nom',\n",
       " 'at+Verb+Pos+Imp+A2sg']"
      ]
     },
     "execution_count": 5,
     "metadata": {},
     "output_type": "execute_result"
    }
   ],
   "source": [
    "ma.predict(\"koş da topu at\")"
   ]
  },
  {
   "cell_type": "code",
   "execution_count": 6,
   "metadata": {},
   "outputs": [
    {
     "data": {
      "text/plain": [
       "['baba+Noun+A3sg+P1sg+Nom',\n",
       " 'ben+Pron+Pers+A1sg+Pnon+Dat',\n",
       " 'at+Noun+A3sg+Pnon+Nom',\n",
       " 'al+Verb+Pos+Past+A3sg']"
      ]
     },
     "execution_count": 6,
     "metadata": {},
     "output_type": "execute_result"
    }
   ],
   "source": [
    "ma.predict(\"babam bana at aldı\")"
   ]
  },
  {
   "cell_type": "code",
   "execution_count": 7,
   "metadata": {},
   "outputs": [
    {
     "data": {
      "text/plain": [
       "['başar+Verb+Pos^DB+Verb+Able^DB+Noun+PastPart+A3pl+P1sg+Gen']"
      ]
     },
     "execution_count": 7,
     "metadata": {},
     "output_type": "execute_result"
    }
   ],
   "source": [
    "ma.predict(\"başarabildiklerimin\")"
   ]
  },
  {
   "cell_type": "markdown",
   "metadata": {},
   "source": [
    "#### Named Entity Recognizer"
   ]
  },
  {
   "cell_type": "code",
   "execution_count": 8,
   "metadata": {},
   "outputs": [
    {
     "name": "stdout",
     "output_type": "stream",
     "text": [
      "2021-09-14 17:10:30,766 - tensorflow - DEBUG - 36} - Falling back to TensorFlow client; we recommended you install the Cloud TPU client directly with pip install cloud-tpu-client.\n",
      "2021-09-14 17:10:34,348 - tensorflow - DEBUG - 411} - Layer gru will use cuDNN kernel when run on GPU.\n",
      "2021-09-14 17:10:34,352 - tensorflow - DEBUG - 411} - Layer gru will use cuDNN kernel when run on GPU.\n",
      "2021-09-14 17:10:34,356 - tensorflow - DEBUG - 411} - Layer gru will use cuDNN kernel when run on GPU.\n",
      "2021-09-14 17:10:34,640 - tensorflow - DEBUG - 411} - Layer gru_1 will use cuDNN kernel when run on GPU.\n",
      "2021-09-14 17:10:34,643 - tensorflow - DEBUG - 411} - Layer gru_1 will use cuDNN kernel when run on GPU.\n",
      "2021-09-14 17:10:34,647 - tensorflow - DEBUG - 411} - Layer gru_1 will use cuDNN kernel when run on GPU.\n",
      "2021-09-14 17:10:34,900 - tensorflow - DEBUG - 411} - Layer gru_2 will use cuDNN kernel when run on GPU.\n",
      "2021-09-14 17:10:34,904 - tensorflow - DEBUG - 411} - Layer gru_2 will use cuDNN kernel when run on GPU.\n",
      "2021-09-14 17:10:34,908 - tensorflow - DEBUG - 411} - Layer gru_2 will use cuDNN kernel when run on GPU.\n",
      "2021-09-14 17:10:35,156 - tensorflow - DEBUG - 411} - Layer gru_3 will use cuDNN kernel when run on GPU.\n",
      "2021-09-14 17:10:35,159 - tensorflow - DEBUG - 411} - Layer gru_3 will use cuDNN kernel when run on GPU.\n",
      "2021-09-14 17:10:35,163 - tensorflow - DEBUG - 411} - Layer gru_3 will use cuDNN kernel when run on GPU.\n",
      "2021-09-14 17:10:35,415 - tensorflow - DEBUG - 411} - Layer gru_4 will use cuDNN kernel when run on GPU.\n",
      "2021-09-14 17:10:35,419 - tensorflow - DEBUG - 411} - Layer gru_4 will use cuDNN kernel when run on GPU.\n",
      "2021-09-14 17:10:35,423 - tensorflow - DEBUG - 411} - Layer gru_4 will use cuDNN kernel when run on GPU.\n"
     ]
    }
   ],
   "source": [
    "#import os\n",
    "#os.environ['TF_XLA_FLAGS'] = '--tf_xla_enable_xla_devices'\n",
    "from pp.named_entitiy_recognizer import NamedEntityRecognizer\n",
    "ner = NamedEntityRecognizer()"
   ]
  },
  {
   "cell_type": "code",
   "execution_count": 9,
   "metadata": {},
   "outputs": [
    {
     "data": {
      "text/plain": [
       "[('Benim', 'O'),\n",
       " ('adım', 'O'),\n",
       " ('Melikşah', 'PER'),\n",
       " (',', 'O'),\n",
       " ('28', 'O'),\n",
       " ('yaşındayım', 'O'),\n",
       " (',', 'O'),\n",
       " ('İstanbul', 'LOC'),\n",
       " (\"'\", 'O'),\n",
       " ('da', 'O'),\n",
       " ('ikamet', 'O'),\n",
       " ('ediyorum', 'O'),\n",
       " ('ve', 'O'),\n",
       " ('VNGRS', 'ORG'),\n",
       " ('AI', 'ORG'),\n",
       " ('Takımı', 'ORG'),\n",
       " (\"'\", 'O'),\n",
       " ('nda', 'O'),\n",
       " ('Aydın', 'PER'),\n",
       " ('ile', 'O'),\n",
       " ('birlikte', 'O'),\n",
       " ('çalışıyorum', 'O'),\n",
       " ('.', 'O')]"
      ]
     },
     "execution_count": 9,
     "metadata": {},
     "output_type": "execute_result"
    }
   ],
   "source": [
    "ner.predict(\"Benim adım Melikşah, 28 yaşındayım, İstanbul'da ikamet ediyorum ve VNGRS AI Takımı'nda Aydın ile birlikte çalışıyorum.\")"
   ]
  },
  {
   "cell_type": "code",
   "execution_count": 10,
   "metadata": {},
   "outputs": [
    {
     "data": {
      "text/plain": [
       "[('Cumhurbaşkanı', 'O'),\n",
       " ('Ahmet', 'PER'),\n",
       " ('Necdet', 'PER'),\n",
       " ('Sezer', 'PER'),\n",
       " (\"'\", 'O'),\n",
       " ('in', 'O'),\n",
       " ('açıklamalarına', 'O'),\n",
       " ('göre', 'O'),\n",
       " ('Ankara', 'LOC'),\n",
       " (\"'\", 'O'),\n",
       " ('daki', 'O'),\n",
       " ('TBMM', 'ORG'),\n",
       " ('3', 'O'),\n",
       " ('gün', 'O'),\n",
       " ('daha', 'O'),\n",
       " ('tatil', 'O'),\n",
       " ('kalacak', 'O')]"
      ]
     },
     "execution_count": 10,
     "metadata": {},
     "output_type": "execute_result"
    }
   ],
   "source": [
    "ner.predict(\"Cumhurbaşkanı Ahmet Necdet Sezer'in açıklamalarına göre Ankara'daki TBMM 3 gün daha tatil kalacak\")"
   ]
  },
  {
   "cell_type": "code",
   "execution_count": 11,
   "metadata": {},
   "outputs": [
    {
     "data": {
      "text/plain": [
       "[('Meryem', 'PER'),\n",
       " ('Beşer', 'PER'),\n",
       " ('ile', 'O'),\n",
       " ('birlikte', 'O'),\n",
       " ('önce', 'O'),\n",
       " ('Bursa', 'LOC'),\n",
       " (\"'\", 'O'),\n",
       " ('ya', 'O'),\n",
       " ('oradan', 'O'),\n",
       " ('da', 'O'),\n",
       " ('İzmir', 'LOC'),\n",
       " (\"'\", 'O'),\n",
       " ('e', 'O'),\n",
       " ('gittik', 'O'),\n",
       " (',', 'O'),\n",
       " ('haftasonunu', 'O'),\n",
       " ('Foça', 'LOC'),\n",
       " (\"'\", 'O'),\n",
       " ('da', 'O'),\n",
       " ('geçirdik', 'O'),\n",
       " ('.', 'O')]"
      ]
     },
     "execution_count": 11,
     "metadata": {},
     "output_type": "execute_result"
    }
   ],
   "source": [
    "ner.predict(\"Meryem Beşer ile birlikte önce Bursa'ya oradan da İzmir'e gittik, haftasonunu Foça'da geçirdik.\")"
   ]
  },
  {
   "cell_type": "markdown",
   "metadata": {},
   "source": [
    "#### Normalizer\n",
    "- Removes punctuations\n",
    "- Converts letters to lowercase\n",
    "- Converts numbers to word form\n",
    "- Removes accent marks\n",
    "- Deascification\n",
    "- Corrects typos using:\n",
    "    - pre-defined typos lexicon\n",
    "    - Levenshtein distance\n",
    "    - morphological analysis"
   ]
  },
  {
   "cell_type": "code",
   "execution_count": 12,
   "metadata": {},
   "outputs": [
    {
     "name": "stdout",
     "output_type": "stream",
     "text": [
      "2021-09-14 17:11:48,899 - D:\\VNGRS\\Turkish-NLP-preprocessing-module\\pp\\morph_analyzer\\model.py - INFO - 116} - Loading Pre-Trained Model\n",
      "2021-09-14 17:11:50,467 - D:\\VNGRS\\Turkish-NLP-preprocessing-module\\pp\\morph_analyzer\\model.py - INFO - 119} - Ready\n"
     ]
    }
   ],
   "source": [
    "from pp.normalizer import Normalizer\n",
    "n = Normalizer()"
   ]
  },
  {
   "cell_type": "code",
   "execution_count": 13,
   "metadata": {},
   "outputs": [
    {
     "ename": "KeyboardInterrupt",
     "evalue": "",
     "output_type": "error",
     "traceback": [
      "\u001b[1;31m---------------------------------------------------------------------------\u001b[0m",
      "\u001b[1;31mKeyboardInterrupt\u001b[0m                         Traceback (most recent call last)",
      "\u001b[1;32m<ipython-input-13-8a52ef3db67c>\u001b[0m in \u001b[0;36m<module>\u001b[1;34m\u001b[0m\n\u001b[0;32m      1\u001b[0m \u001b[0msentence\u001b[0m \u001b[1;33m=\u001b[0m \u001b[1;34m\"Test için yâzdığîm 1 cümledir. Kasitli yazişm hatasıı ekliyoruum. Adim meliksah turker, yasim 28.\"\u001b[0m\u001b[1;33m\u001b[0m\u001b[1;33m\u001b[0m\u001b[0m\n\u001b[1;32m----> 2\u001b[1;33m \u001b[0mn\u001b[0m\u001b[1;33m.\u001b[0m\u001b[0mnormalize\u001b[0m\u001b[1;33m(\u001b[0m\u001b[0msentence\u001b[0m\u001b[1;33m.\u001b[0m\u001b[0msplit\u001b[0m\u001b[1;33m(\u001b[0m\u001b[1;34m\" \"\u001b[0m\u001b[1;33m)\u001b[0m\u001b[1;33m,\u001b[0m \u001b[0mnormalize_via_levenshtein\u001b[0m\u001b[1;33m=\u001b[0m\u001b[1;32mTrue\u001b[0m\u001b[1;33m,\u001b[0m \u001b[0mdeascify\u001b[0m\u001b[1;33m=\u001b[0m\u001b[1;32mTrue\u001b[0m\u001b[1;33m)\u001b[0m\u001b[1;33m\u001b[0m\u001b[1;33m\u001b[0m\u001b[0m\n\u001b[0m",
      "\u001b[1;32mD:\\VNGRS\\Turkish-NLP-preprocessing-module\\pp\\normalizer\\normalizer.py\u001b[0m in \u001b[0;36mnormalize\u001b[1;34m(self, list_of_tokens, remove_punctuations, convert_to_lowercase, convert_number_to_word, remove_accent_marks, normalize_via_lexicon, normalize_via_levenshtein, deascify)\u001b[0m\n\u001b[0;32m    179\u001b[0m \u001b[1;33m\u001b[0m\u001b[0m\n\u001b[0;32m    180\u001b[0m             \u001b[1;32mif\u001b[0m \u001b[0mnormalize_via_levenshtein\u001b[0m \u001b[1;32mand\u001b[0m \u001b[1;33m(\u001b[0m\u001b[1;32mnot\u001b[0m \u001b[0mself\u001b[0m\u001b[1;33m.\u001b[0m\u001b[0m_is_token_valid_turkish\u001b[0m\u001b[1;33m(\u001b[0m\u001b[0mtoken\u001b[0m\u001b[1;33m)\u001b[0m\u001b[1;33m)\u001b[0m\u001b[1;33m:\u001b[0m\u001b[1;33m\u001b[0m\u001b[1;33m\u001b[0m\u001b[0m\n\u001b[1;32m--> 181\u001b[1;33m                 \u001b[0mtoken\u001b[0m \u001b[1;33m=\u001b[0m \u001b[0mself\u001b[0m\u001b[1;33m.\u001b[0m\u001b[0m_return_most_similar_word\u001b[0m\u001b[1;33m(\u001b[0m\u001b[0mtoken\u001b[0m\u001b[1;33m)\u001b[0m\u001b[1;33m\u001b[0m\u001b[1;33m\u001b[0m\u001b[0m\n\u001b[0m\u001b[0;32m    182\u001b[0m \u001b[1;33m\u001b[0m\u001b[0m\n\u001b[0;32m    183\u001b[0m             \u001b[1;32mif\u001b[0m \u001b[0mtoken\u001b[0m \u001b[1;33m!=\u001b[0m \u001b[1;34m''\u001b[0m\u001b[1;33m:\u001b[0m\u001b[1;33m\u001b[0m\u001b[1;33m\u001b[0m\u001b[0m\n",
      "\u001b[1;32mD:\\VNGRS\\Turkish-NLP-preprocessing-module\\pp\\normalizer\\normalizer.py\u001b[0m in \u001b[0;36m_return_most_similar_word\u001b[1;34m(self, s1)\u001b[0m\n\u001b[0;32m    101\u001b[0m             \u001b[0ms2_list\u001b[0m\u001b[1;33m.\u001b[0m\u001b[0mappend\u001b[0m\u001b[1;33m(\u001b[0m\u001b[0ms2\u001b[0m\u001b[1;33m)\u001b[0m\u001b[1;33m\u001b[0m\u001b[1;33m\u001b[0m\u001b[0m\n\u001b[0;32m    102\u001b[0m \u001b[1;33m\u001b[0m\u001b[0m\n\u001b[1;32m--> 103\u001b[1;33m             \u001b[0mdist\u001b[0m \u001b[1;33m=\u001b[0m \u001b[0m_levenshtein_distance\u001b[0m\u001b[1;33m(\u001b[0m\u001b[0ms1\u001b[0m\u001b[1;33m,\u001b[0m \u001b[0ms2\u001b[0m\u001b[1;33m)\u001b[0m\u001b[1;33m\u001b[0m\u001b[1;33m\u001b[0m\u001b[0m\n\u001b[0m\u001b[0;32m    104\u001b[0m             \u001b[0mdistance_list\u001b[0m\u001b[1;33m.\u001b[0m\u001b[0mappend\u001b[0m\u001b[1;33m(\u001b[0m\u001b[0mdist\u001b[0m\u001b[1;33m)\u001b[0m\u001b[1;33m\u001b[0m\u001b[1;33m\u001b[0m\u001b[0m\n\u001b[0;32m    105\u001b[0m \u001b[1;33m\u001b[0m\u001b[0m\n",
      "\u001b[1;32mD:\\VNGRS\\Turkish-NLP-preprocessing-module\\pp\\normalizer\\normalizer.py\u001b[0m in \u001b[0;36m_levenshtein_distance\u001b[1;34m(s1, s2)\u001b[0m\n\u001b[0;32m     28\u001b[0m                 \u001b[0mdistances_\u001b[0m\u001b[1;33m.\u001b[0m\u001b[0mappend\u001b[0m\u001b[1;33m(\u001b[0m\u001b[0mdistances\u001b[0m\u001b[1;33m[\u001b[0m\u001b[0mi1\u001b[0m\u001b[1;33m]\u001b[0m\u001b[1;33m)\u001b[0m\u001b[1;33m\u001b[0m\u001b[1;33m\u001b[0m\u001b[0m\n\u001b[0;32m     29\u001b[0m             \u001b[1;32melse\u001b[0m\u001b[1;33m:\u001b[0m\u001b[1;33m\u001b[0m\u001b[1;33m\u001b[0m\u001b[0m\n\u001b[1;32m---> 30\u001b[1;33m                 \u001b[0mdistances_\u001b[0m\u001b[1;33m.\u001b[0m\u001b[0mappend\u001b[0m\u001b[1;33m(\u001b[0m\u001b[1;36m1\u001b[0m \u001b[1;33m+\u001b[0m \u001b[0mmin\u001b[0m\u001b[1;33m(\u001b[0m\u001b[1;33m(\u001b[0m\u001b[0mdistances\u001b[0m\u001b[1;33m[\u001b[0m\u001b[0mi1\u001b[0m\u001b[1;33m]\u001b[0m\u001b[1;33m,\u001b[0m \u001b[0mdistances\u001b[0m\u001b[1;33m[\u001b[0m\u001b[0mi1\u001b[0m \u001b[1;33m+\u001b[0m \u001b[1;36m1\u001b[0m\u001b[1;33m]\u001b[0m\u001b[1;33m,\u001b[0m \u001b[0mdistances_\u001b[0m\u001b[1;33m[\u001b[0m\u001b[1;33m-\u001b[0m\u001b[1;36m1\u001b[0m\u001b[1;33m]\u001b[0m\u001b[1;33m)\u001b[0m\u001b[1;33m)\u001b[0m\u001b[1;33m)\u001b[0m\u001b[1;33m\u001b[0m\u001b[1;33m\u001b[0m\u001b[0m\n\u001b[0m\u001b[0;32m     31\u001b[0m         \u001b[0mdistances\u001b[0m \u001b[1;33m=\u001b[0m \u001b[0mdistances_\u001b[0m\u001b[1;33m\u001b[0m\u001b[1;33m\u001b[0m\u001b[0m\n\u001b[0;32m     32\u001b[0m     \u001b[1;32mreturn\u001b[0m \u001b[0mdistances\u001b[0m\u001b[1;33m[\u001b[0m\u001b[1;33m-\u001b[0m\u001b[1;36m1\u001b[0m\u001b[1;33m]\u001b[0m\u001b[1;33m\u001b[0m\u001b[1;33m\u001b[0m\u001b[0m\n",
      "\u001b[1;31mKeyboardInterrupt\u001b[0m: "
     ]
    }
   ],
   "source": [
    "sentence = \"Test için yâzdığîm 1 cümledir. Kasitli yazişm hatasıı ekliyoruum. Adim meliksah turker, yasim 28.\"\n",
    "n.normalize(sentence.split(\" \"), normalize_via_levenshtein=True, deascify=True)"
   ]
  },
  {
   "cell_type": "code",
   "execution_count": null,
   "metadata": {},
   "outputs": [],
   "source": [
    "sentence = \"boyle sey gormedim duymadim\"\n",
    "n.normalize(sentence.split(\" \"), deascify= True)"
   ]
  },
  {
   "cell_type": "markdown",
   "metadata": {},
   "source": [
    "#### Sentence Splitter"
   ]
  },
  {
   "cell_type": "code",
   "execution_count": null,
   "metadata": {},
   "outputs": [],
   "source": [
    "from pp.sentence_splitter import SentenceSplitter\n",
    "ss = SentenceSplitter()"
   ]
  },
  {
   "cell_type": "code",
   "execution_count": null,
   "metadata": {},
   "outputs": [],
   "source": [
    "ss.split_sentences('Av. Meryem Beşer, 3.5 yıldır süren dava ile ilgili dedi ki, \"Duruşma bitti, dava lehimize sonuçlandı.\" Bu harika bir haber!')"
   ]
  },
  {
   "cell_type": "code",
   "execution_count": null,
   "metadata": {},
   "outputs": [],
   "source": [
    "ss.split_sentences('4. Murat, diğer yazım şekli ile IV. Murat, alkollü içecekleri halka yasaklamıştı.')"
   ]
  },
  {
   "cell_type": "markdown",
   "metadata": {},
   "source": [
    "#### Stopword Remover\n",
    "- Static: uses pre-defined lexicon of stopwords\n",
    "- Dynamic: detects stop-words regardless of language and context\n",
    "    - optional: can detect and drop rare-words (frequency of 1)"
   ]
  },
  {
   "cell_type": "code",
   "execution_count": null,
   "metadata": {},
   "outputs": [],
   "source": [
    "from pp.stopword_remover import StopwordRemover\n",
    "sr = StopwordRemover()"
   ]
  },
  {
   "cell_type": "code",
   "execution_count": null,
   "metadata": {},
   "outputs": [],
   "source": [
    "sentence = \"acaba bugün kahvaltıda kahve yerine çay mı içsem ya da neyse süt içeyim\""
   ]
  },
  {
   "cell_type": "code",
   "execution_count": null,
   "metadata": {},
   "outputs": [],
   "source": [
    "sr.drop_stop_words(sentence.split(\" \"))"
   ]
  },
  {
   "cell_type": "code",
   "execution_count": null,
   "metadata": {},
   "outputs": [],
   "source": [
    "sentence = \"ben bugün aşı olacağım sonra da eve gelip telefon açacağım aşı nasıl etkiledi onu anlatırım telefon aşı olmak bu dönemde çok ama ama ama ama çok önemli\"\n",
    "sr.dynamically_detect_stop_words(sentence.split(\" \"))"
   ]
  },
  {
   "cell_type": "code",
   "execution_count": null,
   "metadata": {},
   "outputs": [],
   "source": [
    "sr.dynamic_stop_words"
   ]
  },
  {
   "cell_type": "code",
   "execution_count": null,
   "metadata": {},
   "outputs": [],
   "source": [
    "import numpy as np"
   ]
  },
  {
   "cell_type": "code",
   "execution_count": null,
   "metadata": {},
   "outputs": [],
   "source": [
    "np.random.choice(sr.stop_words, 10)"
   ]
  },
  {
   "cell_type": "code",
   "execution_count": null,
   "metadata": {},
   "outputs": [],
   "source": [
    "sr.unify_stop_words()"
   ]
  },
  {
   "cell_type": "code",
   "execution_count": null,
   "metadata": {},
   "outputs": [],
   "source": [
    "sr.stop_words[:11]"
   ]
  },
  {
   "cell_type": "markdown",
   "metadata": {},
   "source": [
    "#### Tokenizer"
   ]
  },
  {
   "cell_type": "code",
   "execution_count": null,
   "metadata": {},
   "outputs": [],
   "source": [
    "sentence = \"Beşiktaş'tan   vapura binip Kadıköy'e geçtim. E-mail adresim turkermeliksah@hotmail.com. İnternette #boğaziçi hashtag'ini gördüm. türk hava yolları test\""
   ]
  },
  {
   "cell_type": "code",
   "execution_count": null,
   "metadata": {},
   "outputs": [],
   "source": [
    "from pp.tokenizer import Tokenizer\n",
    "t = Tokenizer()\n",
    "t.tokenize(sentence)"
   ]
  },
  {
   "cell_type": "code",
   "execution_count": null,
   "metadata": {},
   "outputs": [],
   "source": [
    "from nltk.tokenize import NLTKWordTokenizer, TweetTokenizer, WhitespaceTokenizer, WordPunctTokenizer"
   ]
  },
  {
   "cell_type": "code",
   "execution_count": null,
   "metadata": {
    "scrolled": true
   },
   "outputs": [],
   "source": [
    "t = TweetTokenizer()\n",
    "t.tokenize(sentence)"
   ]
  }
 ],
 "metadata": {
  "kernelspec": {
   "display_name": "Python 3",
   "language": "python",
   "name": "python3"
  },
  "language_info": {
   "codemirror_mode": {
    "name": "ipython",
    "version": 3
   },
   "file_extension": ".py",
   "mimetype": "text/x-python",
   "name": "python",
   "nbconvert_exporter": "python",
   "pygments_lexer": "ipython3",
   "version": "3.7.9"
  }
 },
 "nbformat": 4,
 "nbformat_minor": 5
}
