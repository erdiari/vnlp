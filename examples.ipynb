{
 "cells": [
  {
   "cell_type": "markdown",
   "id": "422df7d0",
   "metadata": {},
   "source": [
    "#### Morphological Analyzer"
   ]
  },
  {
   "cell_type": "code",
   "execution_count": 1,
   "id": "55637e0b",
   "metadata": {},
   "outputs": [],
   "source": [
    "import logging\n",
    "logger = logging.getLogger()\n",
    "logger.setLevel(logging.INFO)"
   ]
  },
  {
   "cell_type": "code",
   "execution_count": 2,
   "id": "c8acbce5",
   "metadata": {
    "scrolled": true
   },
   "outputs": [
    {
     "name": "stderr",
     "output_type": "stream",
     "text": [
      "[dynet] random seed: 2963932208\n",
      "[dynet] allocating memory: 512MB\n",
      "[dynet] memory allocation done.\n"
     ]
    },
    {
     "name": "stdout",
     "output_type": "stream",
     "text": [
      "2021-09-12 18:47:19,425 - /Users/meliksahturker/Desktop/Turkish-NLP-preprocessing-module/pp/morph_analyzer/model.py - INFO - 116} - Loading Pre-Trained Model\n",
      "2021-09-12 18:47:20,538 - /Users/meliksahturker/Desktop/Turkish-NLP-preprocessing-module/pp/morph_analyzer/model.py - INFO - 119} - Ready\n"
     ]
    }
   ],
   "source": [
    "from pp.morph_analyzer import MorphAnalyzer\n",
    "ma = MorphAnalyzer()"
   ]
  },
  {
   "cell_type": "code",
   "execution_count": 3,
   "id": "5165b0ee",
   "metadata": {},
   "outputs": [
    {
     "data": {
      "text/plain": [
       "['üniversite+Noun+A3sg+Pnon+Nom',\n",
       " 'sınav+Noun+A3pl+P3sg+Dat',\n",
       " 'can+Noun+A3sg+Pnon+Ins',\n",
       " 'baş+Noun+A3sg+Pnon+Ins',\n",
       " 'çalış+Verb+Pos+Prog1+A3pl+Past']"
      ]
     },
     "execution_count": 3,
     "metadata": {},
     "output_type": "execute_result"
    }
   ],
   "source": [
    "ma.predict(\"üniversite sınavlarına canla başla çalışıyorlardı\")"
   ]
  },
  {
   "cell_type": "code",
   "execution_count": 4,
   "id": "383df85c",
   "metadata": {},
   "outputs": [
    {
     "data": {
      "text/plain": [
       "['şimdi+Adverb', 'baş+Noun+A3sg+Pnon+Abl', 'başla+Verb+Pos+Imp+A2sg']"
      ]
     },
     "execution_count": 4,
     "metadata": {},
     "output_type": "execute_result"
    }
   ],
   "source": [
    "ma.predict(\"şimdi baştan başla\")"
   ]
  },
  {
   "cell_type": "code",
   "execution_count": 5,
   "id": "64411f9f",
   "metadata": {},
   "outputs": [
    {
     "data": {
      "text/plain": [
       "['koş+Verb+Pos+Imp+A2sg',\n",
       " 'da+Conj',\n",
       " 'top+Noun+A3sg+P3sg+Nom',\n",
       " 'at+Verb+Pos+Imp+A2sg']"
      ]
     },
     "execution_count": 5,
     "metadata": {},
     "output_type": "execute_result"
    }
   ],
   "source": [
    "ma.predict(\"koş da topu at\")"
   ]
  },
  {
   "cell_type": "code",
   "execution_count": 6,
   "id": "df4fdbbe",
   "metadata": {},
   "outputs": [
    {
     "data": {
      "text/plain": [
       "['baba+Noun+A3sg+P1sg+Nom',\n",
       " 'ben+Pron+Pers+A1sg+Pnon+Dat',\n",
       " 'at+Noun+A3sg+Pnon+Nom',\n",
       " 'al+Verb+Pos+Past+A3sg']"
      ]
     },
     "execution_count": 6,
     "metadata": {},
     "output_type": "execute_result"
    }
   ],
   "source": [
    "ma.predict(\"babam bana at aldı\")"
   ]
  },
  {
   "cell_type": "code",
   "execution_count": 7,
   "id": "62660398",
   "metadata": {},
   "outputs": [
    {
     "data": {
      "text/plain": [
       "['başar+Verb+Pos^DB+Verb+Able^DB+Noun+PastPart+A3pl+P1sg+Gen']"
      ]
     },
     "execution_count": 7,
     "metadata": {},
     "output_type": "execute_result"
    }
   ],
   "source": [
    "ma.predict(\"başarabildiklerimin\")"
   ]
  },
  {
   "cell_type": "markdown",
   "id": "71c52fc0",
   "metadata": {},
   "source": [
    "#### Named Entity Recognizer"
   ]
  },
  {
   "cell_type": "code",
   "execution_count": 8,
   "id": "50b874a8",
   "metadata": {},
   "outputs": [
    {
     "name": "stdout",
     "output_type": "stream",
     "text": [
      "2021-09-12 18:47:24,050 - tensorflow - DEBUG - 36} - Falling back to TensorFlow client; we recommended you install the Cloud TPU client directly with pip install cloud-tpu-client.\n",
      "2021-09-12 18:47:24,377 - h5py._conv - DEBUG - 47} - Creating converter from 7 to 5\n",
      "2021-09-12 18:47:24,378 - h5py._conv - DEBUG - 47} - Creating converter from 5 to 7\n",
      "2021-09-12 18:47:24,378 - h5py._conv - DEBUG - 47} - Creating converter from 7 to 5\n",
      "2021-09-12 18:47:24,379 - h5py._conv - DEBUG - 47} - Creating converter from 5 to 7\n"
     ]
    },
    {
     "name": "stderr",
     "output_type": "stream",
     "text": [
      "2021-09-12 18:47:25.999531: I tensorflow/core/platform/cpu_feature_guard.cc:142] This TensorFlow binary is optimized with oneAPI Deep Neural Network Library (oneDNN) to use the following CPU instructions in performance-critical operations:  AVX2 FMA\n",
      "To enable them in other operations, rebuild TensorFlow with the appropriate compiler flags.\n"
     ]
    },
    {
     "name": "stdout",
     "output_type": "stream",
     "text": [
      "2021-09-12 18:47:27,480 - h5py._conv - DEBUG - 77} - Creating converter from 3 to 5\n"
     ]
    }
   ],
   "source": [
    "#import os\n",
    "#os.environ['TF_XLA_FLAGS'] = '--tf_xla_enable_xla_devices'\n",
    "from pp.named_entitiy_recognizer import NamedEntityRecognizer\n",
    "ner = NamedEntityRecognizer()"
   ]
  },
  {
   "cell_type": "code",
   "execution_count": 9,
   "id": "e7fa6fe8",
   "metadata": {},
   "outputs": [
    {
     "name": "stderr",
     "output_type": "stream",
     "text": [
      "2021-09-12 18:47:27.533206: I tensorflow/compiler/mlir/mlir_graph_optimization_pass.cc:185] None of the MLIR Optimization Passes are enabled (registered 2)\n"
     ]
    },
    {
     "data": {
      "text/plain": [
       "[('Ben', 'O'),\n",
       " ('Melikşah', 'PER'),\n",
       " ('Türker', 'PER'),\n",
       " (',', 'O'),\n",
       " ('28', 'O'),\n",
       " ('yaşındayım', 'O'),\n",
       " (',', 'O'),\n",
       " ('İstanbul', 'LOC'),\n",
       " (\"'\", 'O'),\n",
       " ('da', 'O'),\n",
       " ('ikamet', 'O'),\n",
       " ('ediyorum', 'O'),\n",
       " ('ve', 'O'),\n",
       " ('VNGRS', 'ORG'),\n",
       " ('AI', 'ORG'),\n",
       " ('Takımı', 'ORG'),\n",
       " (\"'\", 'O'),\n",
       " ('nda', 'O'),\n",
       " ('Aydın', 'PER'),\n",
       " ('ile', 'O'),\n",
       " ('birlikte', 'O'),\n",
       " ('çalışıyorum', 'O'),\n",
       " ('.', 'O')]"
      ]
     },
     "execution_count": 9,
     "metadata": {},
     "output_type": "execute_result"
    }
   ],
   "source": [
    "ner.predict(\"Ben Melikşah Türker, 28 yaşındayım, İstanbul'da ikamet ediyorum ve VNGRS AI Takımı'nda Aydın ile birlikte çalışıyorum.\")"
   ]
  },
  {
   "cell_type": "code",
   "execution_count": 10,
   "id": "f443207b",
   "metadata": {},
   "outputs": [
    {
     "data": {
      "text/plain": [
       "[('Cumhurbaşkanı', 'O'),\n",
       " ('Ahmet', 'PER'),\n",
       " ('Necdet', 'PER'),\n",
       " ('Sezer', 'PER'),\n",
       " (\"'\", 'O'),\n",
       " ('in', 'O'),\n",
       " ('açıklamalarına', 'O'),\n",
       " ('göre', 'O'),\n",
       " ('Ankara', 'LOC'),\n",
       " (\"'\", 'O'),\n",
       " ('daki', 'O'),\n",
       " ('TBMM', 'ORG'),\n",
       " ('3', 'O'),\n",
       " ('gün', 'O'),\n",
       " ('daha', 'O'),\n",
       " ('tatil', 'O'),\n",
       " ('kalacak', 'O')]"
      ]
     },
     "execution_count": 10,
     "metadata": {},
     "output_type": "execute_result"
    }
   ],
   "source": [
    "ner.predict(\"Cumhurbaşkanı Ahmet Necdet Sezer'in açıklamalarına göre Ankara'daki TBMM 3 gün daha tatil kalacak\")"
   ]
  },
  {
   "cell_type": "code",
   "execution_count": 11,
   "id": "dae43d20",
   "metadata": {},
   "outputs": [
    {
     "data": {
      "text/plain": [
       "[('Meryem', 'PER'),\n",
       " ('Beşer', 'PER'),\n",
       " ('ile', 'O'),\n",
       " ('birlikte', 'O'),\n",
       " ('önce', 'O'),\n",
       " ('Bursa', 'LOC'),\n",
       " (\"'\", 'O'),\n",
       " ('ya', 'O'),\n",
       " ('oradan', 'O'),\n",
       " ('da', 'O'),\n",
       " ('İzmir', 'LOC'),\n",
       " (\"'\", 'O'),\n",
       " ('e', 'O'),\n",
       " ('gittik', 'O'),\n",
       " (',', 'O'),\n",
       " ('haftasonunu', 'O'),\n",
       " ('Foça', 'LOC'),\n",
       " (\"'\", 'O'),\n",
       " ('da', 'O'),\n",
       " ('geçirdik', 'O'),\n",
       " ('.', 'O')]"
      ]
     },
     "execution_count": 11,
     "metadata": {},
     "output_type": "execute_result"
    }
   ],
   "source": [
    "ner.predict(\"Meryem Beşer ile birlikte önce Bursa'ya oradan da İzmir'e gittik, haftasonunu Foça'da geçirdik.\")"
   ]
  },
  {
   "cell_type": "markdown",
   "id": "6d413bb9",
   "metadata": {},
   "source": [
    "#### Normalizer\n",
    "- Removes punctuations\n",
    "- Converts letters to lowercase\n",
    "- Converts numbers to word form\n",
    "- Removes accent marks\n",
    "- Deascification\n",
    "- Corrects typos using:\n",
    "    - pre-defined typos lexicon\n",
    "    - Levenshtein distance\n",
    "    - morphological analysis"
   ]
  },
  {
   "cell_type": "code",
   "execution_count": 12,
   "id": "cd34e712",
   "metadata": {},
   "outputs": [
    {
     "name": "stdout",
     "output_type": "stream",
     "text": [
      "2021-09-12 18:47:31,969 - /Users/meliksahturker/Desktop/Turkish-NLP-preprocessing-module/pp/morph_analyzer/model.py - INFO - 116} - Loading Pre-Trained Model\n",
      "2021-09-12 18:47:33,051 - /Users/meliksahturker/Desktop/Turkish-NLP-preprocessing-module/pp/morph_analyzer/model.py - INFO - 119} - Ready\n"
     ]
    }
   ],
   "source": [
    "from pp.normalizer import Normalizer\n",
    "n = Normalizer()"
   ]
  },
  {
   "cell_type": "code",
   "execution_count": 13,
   "id": "22a4fd43",
   "metadata": {},
   "outputs": [
    {
     "name": "stdout",
     "output_type": "stream",
     "text": [
      "CPU times: user 3.27 s, sys: 118 ms, total: 3.38 s\n",
      "Wall time: 3.4 s\n"
     ]
    },
    {
     "data": {
      "text/plain": [
       "['test',\n",
       " 'için',\n",
       " 'yazdığım',\n",
       " 'bir',\n",
       " 'cümledir',\n",
       " 'kasıtlı',\n",
       " 'yazım',\n",
       " 'hatası',\n",
       " 'ekliyorum',\n",
       " 'adım',\n",
       " 'melikşah',\n",
       " 'türker',\n",
       " 'yaşım',\n",
       " 'yirmisekiz']"
      ]
     },
     "execution_count": 13,
     "metadata": {},
     "output_type": "execute_result"
    }
   ],
   "source": [
    "%%time\n",
    "sentence = \"Test için yâzdığîm 1 cümledir. Kasitli yazişm hatasıı ekliyoruum. Adim meliksah turker, yasim 28.\"\n",
    "n.normalize(sentence.split(\" \"), normalize_via_levenshtein=True, deascify=True)"
   ]
  },
  {
   "cell_type": "code",
   "execution_count": 14,
   "id": "56f44dd1",
   "metadata": {},
   "outputs": [
    {
     "name": "stdout",
     "output_type": "stream",
     "text": [
      "CPU times: user 1.4 ms, sys: 1 µs, total: 1.4 ms\n",
      "Wall time: 1.41 ms\n"
     ]
    },
    {
     "data": {
      "text/plain": [
       "['böyle', 'şey', 'görmedim', 'duymadım']"
      ]
     },
     "execution_count": 14,
     "metadata": {},
     "output_type": "execute_result"
    }
   ],
   "source": [
    "%%time\n",
    "sentence = \"boyle sey gormedim duymadim\"\n",
    "n.normalize(sentence.split(\" \"), deascify= True, normalize_via_levenshtein=True)"
   ]
  },
  {
   "cell_type": "markdown",
   "id": "3d172e14",
   "metadata": {},
   "source": [
    "#### Sentence Splitter"
   ]
  },
  {
   "cell_type": "code",
   "execution_count": 15,
   "id": "4e49022d",
   "metadata": {},
   "outputs": [],
   "source": [
    "from pp.sentence_splitter import SentenceSplitter\n",
    "ss = SentenceSplitter()"
   ]
  },
  {
   "cell_type": "code",
   "execution_count": 16,
   "id": "94adeddb",
   "metadata": {},
   "outputs": [
    {
     "data": {
      "text/plain": [
       "['Av. Meryem Beşer, 3.5 yıldır süren dava ile ilgili dedi ki, \"Duruşma bitti, dava lehimize sonuçlandı.\"',\n",
       " 'Bu harika bir haber!']"
      ]
     },
     "execution_count": 16,
     "metadata": {},
     "output_type": "execute_result"
    }
   ],
   "source": [
    "ss.split_sentences('Av. Meryem Beşer, 3.5 yıldır süren dava ile ilgili dedi ki, \"Duruşma bitti, dava lehimize sonuçlandı.\" Bu harika bir haber!')"
   ]
  },
  {
   "cell_type": "code",
   "execution_count": 17,
   "id": "d151f291",
   "metadata": {},
   "outputs": [
    {
     "data": {
      "text/plain": [
       "['4. Murat, diğer yazım şekli ile IV. Murat, alkollü içecekleri halka yasaklamıştı.']"
      ]
     },
     "execution_count": 17,
     "metadata": {},
     "output_type": "execute_result"
    }
   ],
   "source": [
    "ss.split_sentences('4. Murat, diğer yazım şekli ile IV. Murat, alkollü içecekleri halka yasaklamıştı.')"
   ]
  },
  {
   "cell_type": "markdown",
   "id": "c9291d37",
   "metadata": {},
   "source": [
    "#### Stopword Remover\n",
    "- Static: uses pre-defined lexicon of stopwords\n",
    "- Dynamic: detects stop-words regardless of language and context\n",
    "    - optional: can detect and drop rare-words (frequency of 1)"
   ]
  },
  {
   "cell_type": "code",
   "execution_count": 18,
   "id": "e8083e26",
   "metadata": {},
   "outputs": [],
   "source": [
    "from pp.stopword_remover import StopwordRemover\n",
    "sr = StopwordRemover()"
   ]
  },
  {
   "cell_type": "code",
   "execution_count": 19,
   "id": "7c037a14",
   "metadata": {},
   "outputs": [],
   "source": [
    "sentence = \"acaba bugün kahvaltıda kahve yerine çay mı içsem ya da neyse süt içeyim\""
   ]
  },
  {
   "cell_type": "code",
   "execution_count": 20,
   "id": "9d48160d",
   "metadata": {},
   "outputs": [
    {
     "data": {
      "text/plain": [
       "['bugün', 'kahvaltıda', 'kahve', 'çay', 'içsem', 'süt', 'içeyim']"
      ]
     },
     "execution_count": 20,
     "metadata": {},
     "output_type": "execute_result"
    }
   ],
   "source": [
    "sr.drop_stop_words(sentence.split(\" \"))"
   ]
  },
  {
   "cell_type": "code",
   "execution_count": 21,
   "id": "9140c729",
   "metadata": {},
   "outputs": [
    {
     "name": "stdout",
     "output_type": "stream",
     "text": [
      "2021-09-12 18:47:36,547 - root - INFO - 60} - Dynamically detected stopwords are: ama, aşı, çok, telefon, gelip\n"
     ]
    }
   ],
   "source": [
    "sentence = \"ben bugün aşı olacağım sonra da eve gelip telefon açacağım aşı nasıl etkiledi onu anlatırım telefon aşı olmak bu dönemde çok ama ama ama ama çok önemli\"\n",
    "sr.dynamically_detect_stop_words(sentence.split(\" \"))"
   ]
  },
  {
   "cell_type": "code",
   "execution_count": 22,
   "id": "fe6433c0",
   "metadata": {},
   "outputs": [
    {
     "data": {
      "text/plain": [
       "['ama', 'aşı', 'çok', 'telefon', 'gelip']"
      ]
     },
     "execution_count": 22,
     "metadata": {},
     "output_type": "execute_result"
    }
   ],
   "source": [
    "sr.dynamic_stop_words"
   ]
  },
  {
   "cell_type": "code",
   "execution_count": 23,
   "id": "579a5184",
   "metadata": {},
   "outputs": [],
   "source": [
    "import numpy as np"
   ]
  },
  {
   "cell_type": "code",
   "execution_count": 24,
   "id": "fc7bbcfd",
   "metadata": {},
   "outputs": [
    {
     "data": {
      "text/plain": [
       "array(['önce', 'un', 'bunun', 'olmaz', 'sanki', 'bu', 'kendilerine',\n",
       "       'onlardan', 'biz', 'çünkü'], dtype='<U11')"
      ]
     },
     "execution_count": 24,
     "metadata": {},
     "output_type": "execute_result"
    }
   ],
   "source": [
    "np.random.choice(sr.stop_words, 10)"
   ]
  },
  {
   "cell_type": "code",
   "execution_count": 25,
   "id": "5ee6967a",
   "metadata": {},
   "outputs": [
    {
     "name": "stdout",
     "output_type": "stream",
     "text": [
      "2021-09-12 18:47:36,573 - root - INFO - 67} - List of stop words is unified and updated.\n"
     ]
    }
   ],
   "source": [
    "sr.unify_stop_words()"
   ]
  },
  {
   "cell_type": "code",
   "execution_count": 26,
   "id": "2a3dba49",
   "metadata": {},
   "outputs": [
    {
     "data": {
      "text/plain": [
       "['a',\n",
       " 'acaba',\n",
       " 'ama',\n",
       " 'ancak',\n",
       " 'arada',\n",
       " 'artık',\n",
       " 'asla',\n",
       " 'aslında',\n",
       " 'ayrıca',\n",
       " 'az',\n",
       " 'aşı']"
      ]
     },
     "execution_count": 26,
     "metadata": {},
     "output_type": "execute_result"
    }
   ],
   "source": [
    "sr.stop_words[:11]"
   ]
  },
  {
   "cell_type": "markdown",
   "id": "e3ce75c5",
   "metadata": {},
   "source": [
    "#### Tokenizer"
   ]
  },
  {
   "cell_type": "code",
   "execution_count": 27,
   "id": "3304fd80",
   "metadata": {},
   "outputs": [],
   "source": [
    "sentence = \"Beşiktaş'tan   vapura binip Kadıköy'e geçtim. E-mail adresim turkermeliksah@hotmail.com. İnternette #boğaziçi hashtag'ini gördüm. türk hava yolları test\""
   ]
  },
  {
   "cell_type": "code",
   "execution_count": 28,
   "id": "4a23b262",
   "metadata": {},
   "outputs": [
    {
     "data": {
      "text/plain": [
       "(\"Beşiktaş'tan\",\n",
       " 'vapura',\n",
       " 'binip',\n",
       " \"Kadıköy'e\",\n",
       " 'geçtim.',\n",
       " 'E-mail',\n",
       " 'adresim',\n",
       " 'turkermeliksah@hotmail.com.',\n",
       " 'İnternette',\n",
       " 'boğaziçi',\n",
       " \"hashtag'ini\",\n",
       " 'gördüm.',\n",
       " 'türk',\n",
       " 'hava',\n",
       " 'yolları',\n",
       " 'test')"
      ]
     },
     "execution_count": 28,
     "metadata": {},
     "output_type": "execute_result"
    }
   ],
   "source": [
    "from pp.tokenizer import Tokenizer\n",
    "t = Tokenizer()\n",
    "t.tokenize(sentence)"
   ]
  },
  {
   "cell_type": "code",
   "execution_count": 29,
   "id": "5b500215",
   "metadata": {},
   "outputs": [],
   "source": [
    "from nltk.tokenize import NLTKWordTokenizer, TweetTokenizer, WhitespaceTokenizer, WordPunctTokenizer"
   ]
  },
  {
   "cell_type": "code",
   "execution_count": 30,
   "id": "1f8085a8",
   "metadata": {
    "scrolled": true
   },
   "outputs": [
    {
     "data": {
      "text/plain": [
       "[\"Beşiktaş'tan\",\n",
       " 'vapura',\n",
       " 'binip',\n",
       " \"Kadıköy'e\",\n",
       " 'geçtim',\n",
       " '.',\n",
       " 'E-mail',\n",
       " 'adresim',\n",
       " 'turkermeliksah@hotmail.com',\n",
       " '.',\n",
       " 'İnternette',\n",
       " '#boğaziçi',\n",
       " \"hashtag'ini\",\n",
       " 'gördüm',\n",
       " '.',\n",
       " 'türk',\n",
       " 'hava',\n",
       " 'yolları',\n",
       " 'test']"
      ]
     },
     "execution_count": 30,
     "metadata": {},
     "output_type": "execute_result"
    }
   ],
   "source": [
    "t = TweetTokenizer()\n",
    "t.tokenize(sentence)"
   ]
  }
 ],
 "metadata": {
  "kernelspec": {
   "display_name": "Python 3 (ipykernel)",
   "language": "python",
   "name": "python3"
  },
  "language_info": {
   "codemirror_mode": {
    "name": "ipython",
    "version": 3
   },
   "file_extension": ".py",
   "mimetype": "text/x-python",
   "name": "python",
   "nbconvert_exporter": "python",
   "pygments_lexer": "ipython3",
   "version": "3.7.9"
  }
 },
 "nbformat": 4,
 "nbformat_minor": 5
}
