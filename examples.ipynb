{
 "cells": [
  {
   "cell_type": "markdown",
   "id": "818964af",
   "metadata": {},
   "source": [
    "#### Morphological Analyzer"
   ]
  },
  {
   "cell_type": "code",
   "execution_count": 7,
   "id": "546cd174",
   "metadata": {},
   "outputs": [],
   "source": [
    "import logging\n",
    "logger = logging.getLogger()\n",
    "logger.setLevel(logging.INFO)"
   ]
  },
  {
   "cell_type": "code",
   "execution_count": 1,
   "id": "0acc0352",
   "metadata": {
    "scrolled": true
   },
   "outputs": [
    {
     "name": "stderr",
     "output_type": "stream",
     "text": [
      "[dynet] random seed: 1367989442\n",
      "[dynet] allocating memory: 512MB\n",
      "[dynet] memory allocation done.\n"
     ]
    },
    {
     "name": "stdout",
     "output_type": "stream",
     "text": [
      "2021-08-03 13:37:26,896 - /Users/meliksahturker/Desktop/Turkish-NLP-preprocessing-module/pp/morph_analyzer/model.py - INFO - 116} - Loading Pre-Trained Model\n",
      "2021-08-03 13:37:27,898 - /Users/meliksahturker/Desktop/Turkish-NLP-preprocessing-module/pp/morph_analyzer/model.py - INFO - 119} - Ready\n"
     ]
    }
   ],
   "source": [
    "from pp.morph_analyzer import MorphAnalyzer\n",
    "ma = MorphAnalyzer()"
   ]
  },
  {
   "cell_type": "code",
   "execution_count": 2,
   "id": "44ea67ca",
   "metadata": {},
   "outputs": [
    {
     "data": {
      "text/plain": [
       "['yarın+Noun+A3sg+Pnon+Nom',\n",
       " 'ahmet+Noun+Prop+A3sg+Pnon+Gen',\n",
       " 'doğum+Noun+A3sg+Pnon+Nom',\n",
       " 'gün+Noun+A3sg+P3sg+Acc',\n",
       " 'kutla+Verb+Pos^DB+Noun+Inf2+A3sg+Pnon+Acc',\n",
       " 'unut+Verb+Pos^DB+Noun+Inf2+A3sg+Pnon+Nom']"
      ]
     },
     "execution_count": 2,
     "metadata": {},
     "output_type": "execute_result"
    }
   ],
   "source": [
    "ma.predict(\"Yarın ahmet'in doğum gününü kutlamayı unutma\")"
   ]
  },
  {
   "cell_type": "code",
   "execution_count": 3,
   "id": "759a3633",
   "metadata": {},
   "outputs": [
    {
     "data": {
      "text/plain": [
       "['kut+Noun+A3sg+Pnon+Ins', 'oyna+Verb+Pos+Past+A1pl']"
      ]
     },
     "execution_count": 3,
     "metadata": {},
     "output_type": "execute_result"
    }
   ],
   "source": [
    "ma.predict(\"Kutla oynadık\")"
   ]
  },
  {
   "cell_type": "code",
   "execution_count": 4,
   "id": "549ef1f5",
   "metadata": {},
   "outputs": [
    {
     "data": {
      "text/plain": [
       "['kutla+Verb+Pos+Imp+A2sg',\n",
       " 'ahmet+Noun+Prop+A3sg+Pnon+Gen',\n",
       " 'doğum+Noun+A3sg+Pnon+Nom',\n",
       " 'gün+Noun+A3sg+P3sg+Acc']"
      ]
     },
     "execution_count": 4,
     "metadata": {},
     "output_type": "execute_result"
    }
   ],
   "source": [
    "ma.predict(\"Kutla ahmet'in doğum gününü\")"
   ]
  },
  {
   "cell_type": "code",
   "execution_count": 5,
   "id": "5103b0a3",
   "metadata": {},
   "outputs": [
    {
     "data": {
      "text/plain": [
       "['gel+Verb+Pos+Imp+A2sg',\n",
       " 'de+Conj',\n",
       " 'oyun+Noun+A3sg+Pnon+Nom',\n",
       " 'oyna+Verb+Pos+Opt+A1pl']"
      ]
     },
     "execution_count": 5,
     "metadata": {},
     "output_type": "execute_result"
    }
   ],
   "source": [
    "ma.predict(\"gel de oyun oynayalım\")"
   ]
  },
  {
   "cell_type": "markdown",
   "id": "a72523c0",
   "metadata": {},
   "source": [
    "#### Normalizer\n",
    "- Removes punctuations\n",
    "- Converts letters to lowercase\n",
    "- Converts numbers to word form\n",
    "- Removes accent marks\n",
    "- Deascification\n",
    "- Corrects typos using\n",
    "    - pre-defined typos lexicon\n",
    "    - Levenshtein distance"
   ]
  },
  {
   "cell_type": "code",
   "execution_count": 6,
   "id": "8f8941f1",
   "metadata": {},
   "outputs": [],
   "source": [
    "from pp.normalizer import Normalizer\n",
    "n = Normalizer()"
   ]
  },
  {
   "cell_type": "code",
   "execution_count": 7,
   "id": "f61f31ca",
   "metadata": {},
   "outputs": [
    {
     "data": {
      "text/plain": [
       "['test',\n",
       " 'için',\n",
       " 'yazdığım',\n",
       " 'bir',\n",
       " 'cümledir',\n",
       " 'yazım',\n",
       " 'hatası',\n",
       " 'ekliyorum',\n",
       " 'benim',\n",
       " 'adım',\n",
       " 'melikşah',\n",
       " 'türker']"
      ]
     },
     "execution_count": 7,
     "metadata": {},
     "output_type": "execute_result"
    }
   ],
   "source": [
    "sentence = \"Test için yâzdığîm 1 cümledir. Yazim hatasıı ekliyorum. benim adim meliksah turker.\"\n",
    "n.normalize(sentence.split(\" \"), normalize_via_levenshtein=True, deascify=True)"
   ]
  },
  {
   "cell_type": "code",
   "execution_count": 8,
   "id": "a7be4284",
   "metadata": {},
   "outputs": [
    {
     "data": {
      "text/plain": [
       "['böyle', 'şey', 'görmedim', 'duymadım']"
      ]
     },
     "execution_count": 8,
     "metadata": {},
     "output_type": "execute_result"
    }
   ],
   "source": [
    "sentence = \"boyle sey gormedim duymadim\"\n",
    "n.normalize(sentence.split(\" \"), deascify= True)"
   ]
  },
  {
   "cell_type": "markdown",
   "id": "3d2a5537",
   "metadata": {},
   "source": [
    "#### Sentence Splitter"
   ]
  },
  {
   "cell_type": "code",
   "execution_count": 9,
   "id": "e1d4b2dc",
   "metadata": {},
   "outputs": [],
   "source": [
    "from pp.sentence_splitter import SentenceSplitter\n",
    "ss = SentenceSplitter()"
   ]
  },
  {
   "cell_type": "code",
   "execution_count": 10,
   "id": "55c80eb9",
   "metadata": {},
   "outputs": [
    {
     "data": {
      "text/plain": [
       "['Kedimi çok seviyorum.', 'Sevgilim Av. Meryem ile 5.5 yıldır birlikteyiz.']"
      ]
     },
     "execution_count": 10,
     "metadata": {},
     "output_type": "execute_result"
    }
   ],
   "source": [
    "ss.split_sentences(\"Kedimi çok seviyorum. Sevgilim Av. Meryem ile 5.5 yıldır birlikteyiz.\")"
   ]
  },
  {
   "cell_type": "markdown",
   "id": "ac81efa3",
   "metadata": {},
   "source": [
    "#### Stopword Remover\n",
    "- Static: uses pre-defined lexicon of stopwords\n",
    "- Dynamic: detects stop-words regardless of language and context\n",
    "    - optional: can detect and drop rare-words (frequency of 1)"
   ]
  },
  {
   "cell_type": "code",
   "execution_count": 8,
   "id": "2a57d18b",
   "metadata": {},
   "outputs": [],
   "source": [
    "from pp.stopword_remover import StopwordRemover\n",
    "sr = StopwordRemover()"
   ]
  },
  {
   "cell_type": "code",
   "execution_count": 9,
   "id": "c686c922",
   "metadata": {},
   "outputs": [
    {
     "name": "stderr",
     "output_type": "stream",
     "text": [
      "INFO:root:Dynamically detected stopwords are: aşı, çok, ama, gelip\n"
     ]
    }
   ],
   "source": [
    "sentence = \"ben bugün aşı olacağım sonra da eve gelip telefon açacağım aşı nasıl etkiledi onu anlatırım aşı olmak bu dönemde çok ama çok önemli\"\n",
    "sr.dynamically_detect_stop_words(sentence.split(\" \"))"
   ]
  },
  {
   "cell_type": "code",
   "execution_count": 10,
   "id": "8777a510",
   "metadata": {},
   "outputs": [
    {
     "data": {
      "text/plain": [
       "['aşı', 'çok', 'ama', 'gelip']"
      ]
     },
     "execution_count": 10,
     "metadata": {},
     "output_type": "execute_result"
    }
   ],
   "source": [
    "sr.dynamic_stop_words"
   ]
  },
  {
   "cell_type": "code",
   "execution_count": 11,
   "id": "29d8f913",
   "metadata": {},
   "outputs": [
    {
     "data": {
      "text/plain": [
       "['a',\n",
       " 'acaba',\n",
       " 'ama',\n",
       " 'ancak',\n",
       " 'arada',\n",
       " 'artık',\n",
       " 'asla',\n",
       " 'aslında',\n",
       " 'ayrıca',\n",
       " 'az',\n",
       " 'bana']"
      ]
     },
     "execution_count": 11,
     "metadata": {},
     "output_type": "execute_result"
    }
   ],
   "source": [
    "sr.stop_words[:11]"
   ]
  },
  {
   "cell_type": "code",
   "execution_count": 12,
   "id": "f1345356",
   "metadata": {},
   "outputs": [
    {
     "name": "stderr",
     "output_type": "stream",
     "text": [
      "INFO:root:List of stop words is unified and updated.\n"
     ]
    }
   ],
   "source": [
    "sr.unify_stop_words()"
   ]
  },
  {
   "cell_type": "code",
   "execution_count": 13,
   "id": "a0f66703",
   "metadata": {},
   "outputs": [
    {
     "data": {
      "text/plain": [
       "['a',\n",
       " 'acaba',\n",
       " 'ama',\n",
       " 'ancak',\n",
       " 'arada',\n",
       " 'artık',\n",
       " 'asla',\n",
       " 'aslında',\n",
       " 'ayrıca',\n",
       " 'az',\n",
       " 'aşı']"
      ]
     },
     "execution_count": 13,
     "metadata": {},
     "output_type": "execute_result"
    }
   ],
   "source": [
    "sr.stop_words[:11]"
   ]
  },
  {
   "cell_type": "markdown",
   "id": "0df32ac4",
   "metadata": {},
   "source": [
    "#### Tokenizer"
   ]
  },
  {
   "cell_type": "code",
   "execution_count": 1,
   "id": "1d59d1b3",
   "metadata": {},
   "outputs": [],
   "source": [
    "sentence = \"Beşiktaş'tan   vapura binip Kadıköy'e geçtim. E-mail adresim turkermeliksah@hotmail.com. İnternette #boğaziçi hashtag'ini gördüm. türk hava yolları test\""
   ]
  },
  {
   "cell_type": "code",
   "execution_count": 3,
   "id": "96db07a2",
   "metadata": {},
   "outputs": [
    {
     "data": {
      "text/plain": [
       "(\"Beşiktaş'tan\",\n",
       " 'vapura',\n",
       " 'binip',\n",
       " \"Kadıköy'e\",\n",
       " 'geçtim.',\n",
       " 'E-mail',\n",
       " 'adresim',\n",
       " 'turkermeliksah@hotmail.com.',\n",
       " 'İnternette',\n",
       " 'boğaziçi',\n",
       " \"hashtag'ini\",\n",
       " 'gördüm.',\n",
       " 'türk',\n",
       " 'hava',\n",
       " 'yolları',\n",
       " 'test')"
      ]
     },
     "execution_count": 3,
     "metadata": {},
     "output_type": "execute_result"
    }
   ],
   "source": [
    "from pp.tokenizer import Tokenizer\n",
    "t = Tokenizer()\n",
    "t.tokenize(sentence)"
   ]
  },
  {
   "cell_type": "code",
   "execution_count": 13,
   "id": "af36f388",
   "metadata": {},
   "outputs": [],
   "source": [
    "from nltk.tokenize import NLTKWordTokenizer, TweetTokenizer, WhitespaceTokenizer, WordPunctTokenizer"
   ]
  },
  {
   "cell_type": "code",
   "execution_count": 19,
   "id": "da60e41f",
   "metadata": {
    "scrolled": true
   },
   "outputs": [
    {
     "data": {
      "text/plain": [
       "[\"Beşiktaş'tan\",\n",
       " 'vapura',\n",
       " 'binip',\n",
       " \"Kadıköy'e\",\n",
       " 'geçtim',\n",
       " '.',\n",
       " 'E-mail',\n",
       " 'adresim',\n",
       " 'turkermeliksah@hotmail.com',\n",
       " '.',\n",
       " 'İnternette',\n",
       " '#boğaziçi',\n",
       " \"hashtag'ini\",\n",
       " 'gördüm',\n",
       " '.',\n",
       " 'türk',\n",
       " 'hava',\n",
       " 'yolları',\n",
       " 'test']"
      ]
     },
     "execution_count": 19,
     "metadata": {},
     "output_type": "execute_result"
    }
   ],
   "source": [
    "t = TweetTokenizer()\n",
    "t.tokenize(sentence)"
   ]
  },
  {
   "cell_type": "code",
   "execution_count": 20,
   "id": "b435e4b2",
   "metadata": {},
   "outputs": [
    {
     "name": "stdout",
     "output_type": "stream",
     "text": [
      "Beşiktaş'tan\n",
      "  \n",
      "vapura\n",
      "binip\n",
      "Kadıköy'e\n",
      "geçtim.\n",
      "E-mail\n",
      "adresim\n",
      "turkermeliksah@hotmail.com.\n",
      "İnternette\n",
      "#boğaziçi\n",
      "hashtag'ini\n",
      "gördüm.\n",
      "türk\n",
      "hava\n",
      "yolları\n",
      "test\n"
     ]
    }
   ],
   "source": [
    "from spacy.tokenizer import Tokenizer\n",
    "from spacy.lang.tr import Turkish\n",
    "\n",
    "nlp = Turkish()\n",
    "tokenizer = Tokenizer(nlp.vocab)\n",
    "tokens = tokenizer(sentence)\n",
    "\n",
    "for t in tokens:\n",
    "    print(t)"
   ]
  },
  {
   "cell_type": "markdown",
   "id": "74d61130",
   "metadata": {},
   "source": [
    "- Tokenization MWE ile düzgün çalışmıyor. Either debug or find another better tokenizer"
   ]
  }
 ],
 "metadata": {
  "kernelspec": {
   "display_name": "Python 3 (ipykernel)",
   "language": "python",
   "name": "python3"
  },
  "language_info": {
   "codemirror_mode": {
    "name": "ipython",
    "version": 3
   },
   "file_extension": ".py",
   "mimetype": "text/x-python",
   "name": "python",
   "nbconvert_exporter": "python",
   "pygments_lexer": "ipython3",
   "version": "3.7.9"
  }
 },
 "nbformat": 4,
 "nbformat_minor": 5
}
