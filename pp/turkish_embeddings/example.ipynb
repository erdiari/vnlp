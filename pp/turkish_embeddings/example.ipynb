{
 "cells": [
  {
   "cell_type": "code",
   "execution_count": 1,
   "metadata": {},
   "outputs": [],
   "source": [
    "from gensim.models import Word2Vec"
   ]
  },
  {
   "cell_type": "code",
   "execution_count": 3,
   "metadata": {},
   "outputs": [],
   "source": [
    "model = Word2Vec.load('Word2Vec.model')"
   ]
  },
  {
   "cell_type": "code",
   "execution_count": 12,
   "metadata": {},
   "outputs": [
    {
     "data": {
      "text/plain": [
       "[('saruman', 0.7291593551635742),\n",
       " ('thorin', 0.6473978161811829),\n",
       " ('aragorn', 0.6401687264442444),\n",
       " ('isengard', 0.6123237013816833),\n",
       " ('orklar', 0.59786057472229),\n",
       " ('gollum', 0.5905635952949524),\n",
       " ('baggins', 0.5837421417236328),\n",
       " ('frodo', 0.5819021463394165),\n",
       " ('belgarath', 0.5811135172843933),\n",
       " ('sauron', 0.5763844847679138),\n",
       " ('elfler', 0.5758092999458313),\n",
       " ('bilbo', 0.5729959607124329),\n",
       " ('tyrion', 0.5728499889373779),\n",
       " ('rohan', 0.556411862373352),\n",
       " ('lancelot', 0.5517111420631409),\n",
       " ('mordor', 0.550175130367279),\n",
       " ('bran', 0.5482109189033508),\n",
       " ('goblin', 0.5393625497817993),\n",
       " ('thor', 0.5280926823616028),\n",
       " ('vader', 0.5258742570877075)]"
      ]
     },
     "execution_count": 12,
     "metadata": {},
     "output_type": "execute_result"
    }
   ],
   "source": [
    "model.wv.most_similar('gandalf', topn = 20)"
   ]
  }
 ],
 "metadata": {
  "kernelspec": {
   "display_name": "Python 3",
   "language": "python",
   "name": "python3"
  },
  "language_info": {
   "codemirror_mode": {
    "name": "ipython",
    "version": 3
   },
   "file_extension": ".py",
   "mimetype": "text/x-python",
   "name": "python",
   "nbconvert_exporter": "python",
   "pygments_lexer": "ipython3",
   "version": "3.7.9"
  }
 },
 "nbformat": 4,
 "nbformat_minor": 4
}
